{
 "cells": [
  {
   "cell_type": "markdown",
   "metadata": {
    "pycharm": {
     "name": "#%% md\n"
    }
   },
   "source": [
    "# <a name=\"0\">Alpha Group Product Campain Model</a>"
   ]
  },
  {
   "cell_type": "markdown",
   "metadata": {
    "pycharm": {
     "name": "#%% md\n"
    }
   },
   "source": [
    "1. <a href=\"#1\">Read the dataset</a>\n",
    "2. <a href=\"#2\">Data Exploration</a>\n",
    "3. <a href=\"#3\">Data Analysis</a>\n",
    "4. <a href=\"#4\">Select features to build the model</a>\n",
    "5. <a href=\"#5\">Training and test datasets</a>\n",
    "6. <a href=\"#6\">Train and tune a classifierr</a>\n",
    "\n"
   ]
  },
  {
   "cell_type": "markdown",
   "metadata": {
    "pycharm": {
     "name": "#%% md\n"
    }
   },
   "source": [
    "## 1. <a name=\"1\">Read the dataset</a>\n",
    "(<a href=\"#0\">Go to top</a>)\n",
    "\n",
    "The attributes are:\n",
    "\n",
    "- `country`: Country name\n",
    "- `article`: 6 digit article number, as unique identifier of an article\n",
    "- `sales`: total number of units sold in respective retail week\n",
    "- `regular_price`: recommended retail price of the article\n",
    "- `current_price`: current selling price (weighted average over the week\n",
    "- `ratio`: price ratio as current_price/regular_price, such that price discount is 1-ratio\n",
    "- `promo1`: indicator for media advertisement, taking 1 in weeks of activation and 0 otherwise\n",
    "- `promo2`: indicator for store events, taking 1 in weeks with events and 0 otherwise\n",
    "- `customer_id`: customer unique identifier, one id per customer\n",
    "- `promo1`: indicator for media advertisement, taking 1 in weeks of activation and 0 otherwise\n",
    "- `promo2`: indicator for store events, taking 1 in weeks with events and 0 otherwise\n",
    "- `customer_id`: customer unique identifier, one id per customer\n",
    "- `article`: 6 digit article number, as unique identifier of an article\n",
    "- `productgroup`: product group the article belongs to\n",
    "- `category`:product category the article belongs to\n",
    "- `cost`: total costs of the article (assumed to be fixed over time)\n",
    "- `style`: description of article design\n",
    "- `sizes`: size range in which article is available\n",
    "- `gender`: gender of target consumer of the article\n",
    "- `rgb_*_main_color`: intensity of the red (r), green (g), and blue (b) primaries of the article‘s  main color, \t\t      taking values [0,250]\n",
    "- `rgb_*_sec_color`: intensity of the red (r), green (g), and blue (b) primaries of the article‘s secondary color, taking      values [0,250]\n",
    "- `label`: advertisement result after offering/sending/presenting the offer to the customer. 0 means the customer did not      buy and 1 means the costomer did buy.\n",
    "\n",
    "Let's read the dataset into a dataframe, using Pandas.\n"
   ]
  },
  {
   "cell_type": "code",
   "execution_count": 1,
   "metadata": {
    "pycharm": {
     "name": "#%%\n"
    }
   },
   "outputs": [],
   "source": [
    "# For data wrangling \n",
    "import numpy as np\n",
    "import pandas as pd\n",
    "import time\n",
    "import json\n",
    "import warnings\n",
    "from tqdm import tqdm\n",
    "warnings.filterwarnings(\"ignore\")\n",
    "\n",
    "# For visualization\n",
    "import matplotlib.pyplot as plt\n",
    "%matplotlib inline\n",
    "import seaborn as sns\n",
    "pd.options.display.max_rows = None\n",
    "pd.options.display.max_columns = None"
   ]
  },
  {
   "cell_type": "code",
   "execution_count": 2,
   "metadata": {
    "pycharm": {
     "name": "#%%\n"
    }
   },
   "outputs": [
    {
     "data": {
      "text/html": [
       "<div>\n",
       "<style scoped>\n",
       "    .dataframe tbody tr th:only-of-type {\n",
       "        vertical-align: middle;\n",
       "    }\n",
       "\n",
       "    .dataframe tbody tr th {\n",
       "        vertical-align: top;\n",
       "    }\n",
       "\n",
       "    .dataframe thead th {\n",
       "        text-align: right;\n",
       "    }\n",
       "</style>\n",
       "<table border=\"1\" class=\"dataframe\">\n",
       "  <thead>\n",
       "    <tr style=\"text-align: right;\">\n",
       "      <th></th>\n",
       "      <th>country</th>\n",
       "      <th>article</th>\n",
       "      <th>sales</th>\n",
       "      <th>regular_price</th>\n",
       "      <th>current_price</th>\n",
       "      <th>ratio</th>\n",
       "      <th>retailweek</th>\n",
       "      <th>promo1</th>\n",
       "      <th>promo2</th>\n",
       "      <th>customer_id</th>\n",
       "      <th>article.1</th>\n",
       "      <th>productgroup</th>\n",
       "      <th>category</th>\n",
       "      <th>cost</th>\n",
       "      <th>style</th>\n",
       "      <th>sizes</th>\n",
       "      <th>gender</th>\n",
       "      <th>rgb_r_main_col</th>\n",
       "      <th>rgb_g_main_col</th>\n",
       "      <th>rgb_b_main_col</th>\n",
       "      <th>rgb_r_sec_col</th>\n",
       "      <th>rgb_g_sec_col</th>\n",
       "      <th>rgb_b_sec_col</th>\n",
       "      <th>label</th>\n",
       "    </tr>\n",
       "  </thead>\n",
       "  <tbody>\n",
       "    <tr>\n",
       "      <th>0</th>\n",
       "      <td>Germany</td>\n",
       "      <td>YN8639</td>\n",
       "      <td>28</td>\n",
       "      <td>5.95</td>\n",
       "      <td>3.95</td>\n",
       "      <td>0.663866</td>\n",
       "      <td>2016-03-27</td>\n",
       "      <td>0</td>\n",
       "      <td>0</td>\n",
       "      <td>1003.0</td>\n",
       "      <td>OC6355</td>\n",
       "      <td>SHOES</td>\n",
       "      <td>TRAINING</td>\n",
       "      <td>13.29</td>\n",
       "      <td>slim</td>\n",
       "      <td>xxs,xs,s,m,l,xl,xxl</td>\n",
       "      <td>women</td>\n",
       "      <td>205</td>\n",
       "      <td>104</td>\n",
       "      <td>57</td>\n",
       "      <td>255</td>\n",
       "      <td>187</td>\n",
       "      <td>255</td>\n",
       "      <td>0</td>\n",
       "    </tr>\n",
       "    <tr>\n",
       "      <th>1</th>\n",
       "      <td>Germany</td>\n",
       "      <td>YN8639</td>\n",
       "      <td>28</td>\n",
       "      <td>5.95</td>\n",
       "      <td>3.95</td>\n",
       "      <td>0.663866</td>\n",
       "      <td>2016-03-27</td>\n",
       "      <td>0</td>\n",
       "      <td>0</td>\n",
       "      <td>1003.0</td>\n",
       "      <td>AP5568</td>\n",
       "      <td>SHORTS</td>\n",
       "      <td>TRAINING</td>\n",
       "      <td>2.29</td>\n",
       "      <td>regular</td>\n",
       "      <td>xxs,xs,s,m,l,xl,xxl</td>\n",
       "      <td>women</td>\n",
       "      <td>188</td>\n",
       "      <td>238</td>\n",
       "      <td>104</td>\n",
       "      <td>255</td>\n",
       "      <td>187</td>\n",
       "      <td>255</td>\n",
       "      <td>0</td>\n",
       "    </tr>\n",
       "    <tr>\n",
       "      <th>2</th>\n",
       "      <td>Germany</td>\n",
       "      <td>YN8639</td>\n",
       "      <td>28</td>\n",
       "      <td>5.95</td>\n",
       "      <td>3.95</td>\n",
       "      <td>0.663866</td>\n",
       "      <td>2016-03-27</td>\n",
       "      <td>0</td>\n",
       "      <td>0</td>\n",
       "      <td>1003.0</td>\n",
       "      <td>CB8861</td>\n",
       "      <td>HARDWARE ACCESSORIES</td>\n",
       "      <td>GOLF</td>\n",
       "      <td>1.70</td>\n",
       "      <td>regular</td>\n",
       "      <td>xxs,xs,s,m,l,xl,xxl</td>\n",
       "      <td>women</td>\n",
       "      <td>205</td>\n",
       "      <td>173</td>\n",
       "      <td>0</td>\n",
       "      <td>255</td>\n",
       "      <td>187</td>\n",
       "      <td>255</td>\n",
       "      <td>0</td>\n",
       "    </tr>\n",
       "    <tr>\n",
       "      <th>3</th>\n",
       "      <td>Germany</td>\n",
       "      <td>YN8639</td>\n",
       "      <td>28</td>\n",
       "      <td>5.95</td>\n",
       "      <td>3.95</td>\n",
       "      <td>0.663866</td>\n",
       "      <td>2016-03-27</td>\n",
       "      <td>0</td>\n",
       "      <td>0</td>\n",
       "      <td>1003.0</td>\n",
       "      <td>LI3529</td>\n",
       "      <td>SHOES</td>\n",
       "      <td>RUNNING</td>\n",
       "      <td>9.00</td>\n",
       "      <td>regular</td>\n",
       "      <td>xxs,xs,s,m,l,xl,xxl</td>\n",
       "      <td>kids</td>\n",
       "      <td>205</td>\n",
       "      <td>140</td>\n",
       "      <td>149</td>\n",
       "      <td>164</td>\n",
       "      <td>211</td>\n",
       "      <td>238</td>\n",
       "      <td>0</td>\n",
       "    </tr>\n",
       "    <tr>\n",
       "      <th>4</th>\n",
       "      <td>Germany</td>\n",
       "      <td>YN8639</td>\n",
       "      <td>28</td>\n",
       "      <td>5.95</td>\n",
       "      <td>3.95</td>\n",
       "      <td>0.663866</td>\n",
       "      <td>2016-03-27</td>\n",
       "      <td>0</td>\n",
       "      <td>0</td>\n",
       "      <td>1003.0</td>\n",
       "      <td>GG8661</td>\n",
       "      <td>SHOES</td>\n",
       "      <td>RELAX CASUAL</td>\n",
       "      <td>9.60</td>\n",
       "      <td>regular</td>\n",
       "      <td>xxs,xs,s,m,l,xl,xxl</td>\n",
       "      <td>women</td>\n",
       "      <td>138</td>\n",
       "      <td>43</td>\n",
       "      <td>226</td>\n",
       "      <td>164</td>\n",
       "      <td>211</td>\n",
       "      <td>238</td>\n",
       "      <td>0</td>\n",
       "    </tr>\n",
       "    <tr>\n",
       "      <th>5</th>\n",
       "      <td>Germany</td>\n",
       "      <td>YN8639</td>\n",
       "      <td>28</td>\n",
       "      <td>5.95</td>\n",
       "      <td>3.95</td>\n",
       "      <td>0.663866</td>\n",
       "      <td>2016-03-27</td>\n",
       "      <td>0</td>\n",
       "      <td>0</td>\n",
       "      <td>1003.0</td>\n",
       "      <td>TX1463</td>\n",
       "      <td>SWEATSHIRTS</td>\n",
       "      <td>TRAINING</td>\n",
       "      <td>4.20</td>\n",
       "      <td>wide</td>\n",
       "      <td>xxs,xs,s,m,l,xl,xxl</td>\n",
       "      <td>women</td>\n",
       "      <td>79</td>\n",
       "      <td>148</td>\n",
       "      <td>205</td>\n",
       "      <td>164</td>\n",
       "      <td>211</td>\n",
       "      <td>238</td>\n",
       "      <td>1</td>\n",
       "    </tr>\n",
       "    <tr>\n",
       "      <th>6</th>\n",
       "      <td>Germany</td>\n",
       "      <td>YN8639</td>\n",
       "      <td>28</td>\n",
       "      <td>5.95</td>\n",
       "      <td>3.95</td>\n",
       "      <td>0.663866</td>\n",
       "      <td>2016-03-27</td>\n",
       "      <td>0</td>\n",
       "      <td>0</td>\n",
       "      <td>1003.0</td>\n",
       "      <td>PC6383</td>\n",
       "      <td>SHOES</td>\n",
       "      <td>FOOTBALL GENERIC</td>\n",
       "      <td>9.90</td>\n",
       "      <td>wide</td>\n",
       "      <td>xs,s,m,l,xl</td>\n",
       "      <td>unisex</td>\n",
       "      <td>139</td>\n",
       "      <td>26</td>\n",
       "      <td>26</td>\n",
       "      <td>205</td>\n",
       "      <td>155</td>\n",
       "      <td>155</td>\n",
       "      <td>0</td>\n",
       "    </tr>\n",
       "    <tr>\n",
       "      <th>7</th>\n",
       "      <td>Germany</td>\n",
       "      <td>YN8639</td>\n",
       "      <td>28</td>\n",
       "      <td>5.95</td>\n",
       "      <td>3.95</td>\n",
       "      <td>0.663866</td>\n",
       "      <td>2016-03-27</td>\n",
       "      <td>0</td>\n",
       "      <td>0</td>\n",
       "      <td>1003.0</td>\n",
       "      <td>VT7698</td>\n",
       "      <td>SHOES</td>\n",
       "      <td>INDOOR</td>\n",
       "      <td>5.20</td>\n",
       "      <td>wide</td>\n",
       "      <td>xxs,xs,s,m,l,xl,xxl</td>\n",
       "      <td>women</td>\n",
       "      <td>135</td>\n",
       "      <td>206</td>\n",
       "      <td>250</td>\n",
       "      <td>205</td>\n",
       "      <td>155</td>\n",
       "      <td>155</td>\n",
       "      <td>1</td>\n",
       "    </tr>\n",
       "    <tr>\n",
       "      <th>8</th>\n",
       "      <td>Germany</td>\n",
       "      <td>YN8639</td>\n",
       "      <td>28</td>\n",
       "      <td>5.95</td>\n",
       "      <td>3.95</td>\n",
       "      <td>0.663866</td>\n",
       "      <td>2016-03-27</td>\n",
       "      <td>0</td>\n",
       "      <td>0</td>\n",
       "      <td>1003.0</td>\n",
       "      <td>FG2965</td>\n",
       "      <td>HARDWARE ACCESSORIES</td>\n",
       "      <td>RUNNING</td>\n",
       "      <td>1.29</td>\n",
       "      <td>slim</td>\n",
       "      <td>xxs,xs,s,m,l,xl,xxl</td>\n",
       "      <td>women</td>\n",
       "      <td>181</td>\n",
       "      <td>181</td>\n",
       "      <td>181</td>\n",
       "      <td>205</td>\n",
       "      <td>155</td>\n",
       "      <td>155</td>\n",
       "      <td>0</td>\n",
       "    </tr>\n",
       "    <tr>\n",
       "      <th>9</th>\n",
       "      <td>Germany</td>\n",
       "      <td>YN8639</td>\n",
       "      <td>28</td>\n",
       "      <td>5.95</td>\n",
       "      <td>3.95</td>\n",
       "      <td>0.663866</td>\n",
       "      <td>2016-03-27</td>\n",
       "      <td>0</td>\n",
       "      <td>0</td>\n",
       "      <td>1003.0</td>\n",
       "      <td>AC7347</td>\n",
       "      <td>SHOES</td>\n",
       "      <td>FOOTBALL GENERIC</td>\n",
       "      <td>8.70</td>\n",
       "      <td>regular</td>\n",
       "      <td>xxs,xs,s,m,l,xl,xxl</td>\n",
       "      <td>men</td>\n",
       "      <td>139</td>\n",
       "      <td>137</td>\n",
       "      <td>137</td>\n",
       "      <td>205</td>\n",
       "      <td>155</td>\n",
       "      <td>155</td>\n",
       "      <td>1</td>\n",
       "    </tr>\n",
       "    <tr>\n",
       "      <th>10</th>\n",
       "      <td>Germany</td>\n",
       "      <td>CF3238</td>\n",
       "      <td>27</td>\n",
       "      <td>37.95</td>\n",
       "      <td>28.95</td>\n",
       "      <td>0.762846</td>\n",
       "      <td>2015-01-25</td>\n",
       "      <td>0</td>\n",
       "      <td>0</td>\n",
       "      <td>1649.0</td>\n",
       "      <td>OC6355</td>\n",
       "      <td>SHOES</td>\n",
       "      <td>TRAINING</td>\n",
       "      <td>13.29</td>\n",
       "      <td>slim</td>\n",
       "      <td>xxs,xs,s,m,l,xl,xxl</td>\n",
       "      <td>women</td>\n",
       "      <td>205</td>\n",
       "      <td>104</td>\n",
       "      <td>57</td>\n",
       "      <td>255</td>\n",
       "      <td>187</td>\n",
       "      <td>255</td>\n",
       "      <td>0</td>\n",
       "    </tr>\n",
       "    <tr>\n",
       "      <th>11</th>\n",
       "      <td>Germany</td>\n",
       "      <td>CF3238</td>\n",
       "      <td>27</td>\n",
       "      <td>37.95</td>\n",
       "      <td>28.95</td>\n",
       "      <td>0.762846</td>\n",
       "      <td>2015-01-25</td>\n",
       "      <td>0</td>\n",
       "      <td>0</td>\n",
       "      <td>1649.0</td>\n",
       "      <td>AP5568</td>\n",
       "      <td>SHORTS</td>\n",
       "      <td>TRAINING</td>\n",
       "      <td>2.29</td>\n",
       "      <td>regular</td>\n",
       "      <td>xxs,xs,s,m,l,xl,xxl</td>\n",
       "      <td>women</td>\n",
       "      <td>188</td>\n",
       "      <td>238</td>\n",
       "      <td>104</td>\n",
       "      <td>255</td>\n",
       "      <td>187</td>\n",
       "      <td>255</td>\n",
       "      <td>0</td>\n",
       "    </tr>\n",
       "    <tr>\n",
       "      <th>12</th>\n",
       "      <td>Germany</td>\n",
       "      <td>CF3238</td>\n",
       "      <td>27</td>\n",
       "      <td>37.95</td>\n",
       "      <td>28.95</td>\n",
       "      <td>0.762846</td>\n",
       "      <td>2015-01-25</td>\n",
       "      <td>0</td>\n",
       "      <td>0</td>\n",
       "      <td>1649.0</td>\n",
       "      <td>CB8861</td>\n",
       "      <td>HARDWARE ACCESSORIES</td>\n",
       "      <td>GOLF</td>\n",
       "      <td>1.70</td>\n",
       "      <td>regular</td>\n",
       "      <td>xxs,xs,s,m,l,xl,xxl</td>\n",
       "      <td>women</td>\n",
       "      <td>205</td>\n",
       "      <td>173</td>\n",
       "      <td>0</td>\n",
       "      <td>255</td>\n",
       "      <td>187</td>\n",
       "      <td>255</td>\n",
       "      <td>0</td>\n",
       "    </tr>\n",
       "    <tr>\n",
       "      <th>13</th>\n",
       "      <td>Germany</td>\n",
       "      <td>CF3238</td>\n",
       "      <td>27</td>\n",
       "      <td>37.95</td>\n",
       "      <td>28.95</td>\n",
       "      <td>0.762846</td>\n",
       "      <td>2015-01-25</td>\n",
       "      <td>0</td>\n",
       "      <td>0</td>\n",
       "      <td>1649.0</td>\n",
       "      <td>LI3529</td>\n",
       "      <td>SHOES</td>\n",
       "      <td>RUNNING</td>\n",
       "      <td>9.00</td>\n",
       "      <td>regular</td>\n",
       "      <td>xxs,xs,s,m,l,xl,xxl</td>\n",
       "      <td>kids</td>\n",
       "      <td>205</td>\n",
       "      <td>140</td>\n",
       "      <td>149</td>\n",
       "      <td>164</td>\n",
       "      <td>211</td>\n",
       "      <td>238</td>\n",
       "      <td>1</td>\n",
       "    </tr>\n",
       "    <tr>\n",
       "      <th>14</th>\n",
       "      <td>Germany</td>\n",
       "      <td>CF3238</td>\n",
       "      <td>27</td>\n",
       "      <td>37.95</td>\n",
       "      <td>28.95</td>\n",
       "      <td>0.762846</td>\n",
       "      <td>2015-01-25</td>\n",
       "      <td>0</td>\n",
       "      <td>0</td>\n",
       "      <td>1649.0</td>\n",
       "      <td>GG8661</td>\n",
       "      <td>SHOES</td>\n",
       "      <td>RELAX CASUAL</td>\n",
       "      <td>9.60</td>\n",
       "      <td>regular</td>\n",
       "      <td>xxs,xs,s,m,l,xl,xxl</td>\n",
       "      <td>women</td>\n",
       "      <td>138</td>\n",
       "      <td>43</td>\n",
       "      <td>226</td>\n",
       "      <td>164</td>\n",
       "      <td>211</td>\n",
       "      <td>238</td>\n",
       "      <td>0</td>\n",
       "    </tr>\n",
       "    <tr>\n",
       "      <th>15</th>\n",
       "      <td>Germany</td>\n",
       "      <td>CF3238</td>\n",
       "      <td>27</td>\n",
       "      <td>37.95</td>\n",
       "      <td>28.95</td>\n",
       "      <td>0.762846</td>\n",
       "      <td>2015-01-25</td>\n",
       "      <td>0</td>\n",
       "      <td>0</td>\n",
       "      <td>1649.0</td>\n",
       "      <td>TX1463</td>\n",
       "      <td>SWEATSHIRTS</td>\n",
       "      <td>TRAINING</td>\n",
       "      <td>4.20</td>\n",
       "      <td>wide</td>\n",
       "      <td>xxs,xs,s,m,l,xl,xxl</td>\n",
       "      <td>women</td>\n",
       "      <td>79</td>\n",
       "      <td>148</td>\n",
       "      <td>205</td>\n",
       "      <td>164</td>\n",
       "      <td>211</td>\n",
       "      <td>238</td>\n",
       "      <td>1</td>\n",
       "    </tr>\n",
       "    <tr>\n",
       "      <th>16</th>\n",
       "      <td>Germany</td>\n",
       "      <td>CF3238</td>\n",
       "      <td>27</td>\n",
       "      <td>37.95</td>\n",
       "      <td>28.95</td>\n",
       "      <td>0.762846</td>\n",
       "      <td>2015-01-25</td>\n",
       "      <td>0</td>\n",
       "      <td>0</td>\n",
       "      <td>1649.0</td>\n",
       "      <td>PC6383</td>\n",
       "      <td>SHOES</td>\n",
       "      <td>FOOTBALL GENERIC</td>\n",
       "      <td>9.90</td>\n",
       "      <td>wide</td>\n",
       "      <td>xs,s,m,l,xl</td>\n",
       "      <td>unisex</td>\n",
       "      <td>139</td>\n",
       "      <td>26</td>\n",
       "      <td>26</td>\n",
       "      <td>205</td>\n",
       "      <td>155</td>\n",
       "      <td>155</td>\n",
       "      <td>0</td>\n",
       "    </tr>\n",
       "    <tr>\n",
       "      <th>17</th>\n",
       "      <td>Germany</td>\n",
       "      <td>CF3238</td>\n",
       "      <td>27</td>\n",
       "      <td>37.95</td>\n",
       "      <td>28.95</td>\n",
       "      <td>0.762846</td>\n",
       "      <td>2015-01-25</td>\n",
       "      <td>0</td>\n",
       "      <td>0</td>\n",
       "      <td>1649.0</td>\n",
       "      <td>VT7698</td>\n",
       "      <td>SHOES</td>\n",
       "      <td>INDOOR</td>\n",
       "      <td>5.20</td>\n",
       "      <td>wide</td>\n",
       "      <td>xxs,xs,s,m,l,xl,xxl</td>\n",
       "      <td>women</td>\n",
       "      <td>135</td>\n",
       "      <td>206</td>\n",
       "      <td>250</td>\n",
       "      <td>205</td>\n",
       "      <td>155</td>\n",
       "      <td>155</td>\n",
       "      <td>1</td>\n",
       "    </tr>\n",
       "    <tr>\n",
       "      <th>18</th>\n",
       "      <td>Germany</td>\n",
       "      <td>CF3238</td>\n",
       "      <td>27</td>\n",
       "      <td>37.95</td>\n",
       "      <td>28.95</td>\n",
       "      <td>0.762846</td>\n",
       "      <td>2015-01-25</td>\n",
       "      <td>0</td>\n",
       "      <td>0</td>\n",
       "      <td>1649.0</td>\n",
       "      <td>FG2965</td>\n",
       "      <td>HARDWARE ACCESSORIES</td>\n",
       "      <td>RUNNING</td>\n",
       "      <td>1.29</td>\n",
       "      <td>slim</td>\n",
       "      <td>xxs,xs,s,m,l,xl,xxl</td>\n",
       "      <td>women</td>\n",
       "      <td>181</td>\n",
       "      <td>181</td>\n",
       "      <td>181</td>\n",
       "      <td>205</td>\n",
       "      <td>155</td>\n",
       "      <td>155</td>\n",
       "      <td>0</td>\n",
       "    </tr>\n",
       "    <tr>\n",
       "      <th>19</th>\n",
       "      <td>Germany</td>\n",
       "      <td>CF3238</td>\n",
       "      <td>27</td>\n",
       "      <td>37.95</td>\n",
       "      <td>28.95</td>\n",
       "      <td>0.762846</td>\n",
       "      <td>2015-01-25</td>\n",
       "      <td>0</td>\n",
       "      <td>0</td>\n",
       "      <td>1649.0</td>\n",
       "      <td>AC7347</td>\n",
       "      <td>SHOES</td>\n",
       "      <td>FOOTBALL GENERIC</td>\n",
       "      <td>8.70</td>\n",
       "      <td>regular</td>\n",
       "      <td>xxs,xs,s,m,l,xl,xxl</td>\n",
       "      <td>men</td>\n",
       "      <td>139</td>\n",
       "      <td>137</td>\n",
       "      <td>137</td>\n",
       "      <td>205</td>\n",
       "      <td>155</td>\n",
       "      <td>155</td>\n",
       "      <td>0</td>\n",
       "    </tr>\n",
       "    <tr>\n",
       "      <th>20</th>\n",
       "      <td>Germany</td>\n",
       "      <td>WR9459</td>\n",
       "      <td>59</td>\n",
       "      <td>57.95</td>\n",
       "      <td>44.95</td>\n",
       "      <td>0.775669</td>\n",
       "      <td>2017-01-29</td>\n",
       "      <td>0</td>\n",
       "      <td>0</td>\n",
       "      <td>936.0</td>\n",
       "      <td>OC6355</td>\n",
       "      <td>SHOES</td>\n",
       "      <td>TRAINING</td>\n",
       "      <td>13.29</td>\n",
       "      <td>slim</td>\n",
       "      <td>xxs,xs,s,m,l,xl,xxl</td>\n",
       "      <td>women</td>\n",
       "      <td>205</td>\n",
       "      <td>104</td>\n",
       "      <td>57</td>\n",
       "      <td>255</td>\n",
       "      <td>187</td>\n",
       "      <td>255</td>\n",
       "      <td>0</td>\n",
       "    </tr>\n",
       "    <tr>\n",
       "      <th>21</th>\n",
       "      <td>Germany</td>\n",
       "      <td>WR9459</td>\n",
       "      <td>59</td>\n",
       "      <td>57.95</td>\n",
       "      <td>44.95</td>\n",
       "      <td>0.775669</td>\n",
       "      <td>2017-01-29</td>\n",
       "      <td>0</td>\n",
       "      <td>0</td>\n",
       "      <td>936.0</td>\n",
       "      <td>AP5568</td>\n",
       "      <td>SHORTS</td>\n",
       "      <td>TRAINING</td>\n",
       "      <td>2.29</td>\n",
       "      <td>regular</td>\n",
       "      <td>xxs,xs,s,m,l,xl,xxl</td>\n",
       "      <td>women</td>\n",
       "      <td>188</td>\n",
       "      <td>238</td>\n",
       "      <td>104</td>\n",
       "      <td>255</td>\n",
       "      <td>187</td>\n",
       "      <td>255</td>\n",
       "      <td>1</td>\n",
       "    </tr>\n",
       "    <tr>\n",
       "      <th>22</th>\n",
       "      <td>Germany</td>\n",
       "      <td>WR9459</td>\n",
       "      <td>59</td>\n",
       "      <td>57.95</td>\n",
       "      <td>44.95</td>\n",
       "      <td>0.775669</td>\n",
       "      <td>2017-01-29</td>\n",
       "      <td>0</td>\n",
       "      <td>0</td>\n",
       "      <td>936.0</td>\n",
       "      <td>CB8861</td>\n",
       "      <td>HARDWARE ACCESSORIES</td>\n",
       "      <td>GOLF</td>\n",
       "      <td>1.70</td>\n",
       "      <td>regular</td>\n",
       "      <td>xxs,xs,s,m,l,xl,xxl</td>\n",
       "      <td>women</td>\n",
       "      <td>205</td>\n",
       "      <td>173</td>\n",
       "      <td>0</td>\n",
       "      <td>255</td>\n",
       "      <td>187</td>\n",
       "      <td>255</td>\n",
       "      <td>0</td>\n",
       "    </tr>\n",
       "    <tr>\n",
       "      <th>23</th>\n",
       "      <td>Germany</td>\n",
       "      <td>WR9459</td>\n",
       "      <td>59</td>\n",
       "      <td>57.95</td>\n",
       "      <td>44.95</td>\n",
       "      <td>0.775669</td>\n",
       "      <td>2017-01-29</td>\n",
       "      <td>0</td>\n",
       "      <td>0</td>\n",
       "      <td>936.0</td>\n",
       "      <td>LI3529</td>\n",
       "      <td>SHOES</td>\n",
       "      <td>RUNNING</td>\n",
       "      <td>9.00</td>\n",
       "      <td>regular</td>\n",
       "      <td>xxs,xs,s,m,l,xl,xxl</td>\n",
       "      <td>kids</td>\n",
       "      <td>205</td>\n",
       "      <td>140</td>\n",
       "      <td>149</td>\n",
       "      <td>164</td>\n",
       "      <td>211</td>\n",
       "      <td>238</td>\n",
       "      <td>1</td>\n",
       "    </tr>\n",
       "    <tr>\n",
       "      <th>24</th>\n",
       "      <td>Germany</td>\n",
       "      <td>WR9459</td>\n",
       "      <td>59</td>\n",
       "      <td>57.95</td>\n",
       "      <td>44.95</td>\n",
       "      <td>0.775669</td>\n",
       "      <td>2017-01-29</td>\n",
       "      <td>0</td>\n",
       "      <td>0</td>\n",
       "      <td>936.0</td>\n",
       "      <td>GG8661</td>\n",
       "      <td>SHOES</td>\n",
       "      <td>RELAX CASUAL</td>\n",
       "      <td>9.60</td>\n",
       "      <td>regular</td>\n",
       "      <td>xxs,xs,s,m,l,xl,xxl</td>\n",
       "      <td>women</td>\n",
       "      <td>138</td>\n",
       "      <td>43</td>\n",
       "      <td>226</td>\n",
       "      <td>164</td>\n",
       "      <td>211</td>\n",
       "      <td>238</td>\n",
       "      <td>0</td>\n",
       "    </tr>\n",
       "    <tr>\n",
       "      <th>25</th>\n",
       "      <td>Germany</td>\n",
       "      <td>WR9459</td>\n",
       "      <td>59</td>\n",
       "      <td>57.95</td>\n",
       "      <td>44.95</td>\n",
       "      <td>0.775669</td>\n",
       "      <td>2017-01-29</td>\n",
       "      <td>0</td>\n",
       "      <td>0</td>\n",
       "      <td>936.0</td>\n",
       "      <td>TX1463</td>\n",
       "      <td>SWEATSHIRTS</td>\n",
       "      <td>TRAINING</td>\n",
       "      <td>4.20</td>\n",
       "      <td>wide</td>\n",
       "      <td>xxs,xs,s,m,l,xl,xxl</td>\n",
       "      <td>women</td>\n",
       "      <td>79</td>\n",
       "      <td>148</td>\n",
       "      <td>205</td>\n",
       "      <td>164</td>\n",
       "      <td>211</td>\n",
       "      <td>238</td>\n",
       "      <td>0</td>\n",
       "    </tr>\n",
       "    <tr>\n",
       "      <th>26</th>\n",
       "      <td>Germany</td>\n",
       "      <td>WR9459</td>\n",
       "      <td>59</td>\n",
       "      <td>57.95</td>\n",
       "      <td>44.95</td>\n",
       "      <td>0.775669</td>\n",
       "      <td>2017-01-29</td>\n",
       "      <td>0</td>\n",
       "      <td>0</td>\n",
       "      <td>936.0</td>\n",
       "      <td>PC6383</td>\n",
       "      <td>SHOES</td>\n",
       "      <td>FOOTBALL GENERIC</td>\n",
       "      <td>9.90</td>\n",
       "      <td>wide</td>\n",
       "      <td>xs,s,m,l,xl</td>\n",
       "      <td>unisex</td>\n",
       "      <td>139</td>\n",
       "      <td>26</td>\n",
       "      <td>26</td>\n",
       "      <td>205</td>\n",
       "      <td>155</td>\n",
       "      <td>155</td>\n",
       "      <td>0</td>\n",
       "    </tr>\n",
       "    <tr>\n",
       "      <th>27</th>\n",
       "      <td>Germany</td>\n",
       "      <td>WR9459</td>\n",
       "      <td>59</td>\n",
       "      <td>57.95</td>\n",
       "      <td>44.95</td>\n",
       "      <td>0.775669</td>\n",
       "      <td>2017-01-29</td>\n",
       "      <td>0</td>\n",
       "      <td>0</td>\n",
       "      <td>936.0</td>\n",
       "      <td>VT7698</td>\n",
       "      <td>SHOES</td>\n",
       "      <td>INDOOR</td>\n",
       "      <td>5.20</td>\n",
       "      <td>wide</td>\n",
       "      <td>xxs,xs,s,m,l,xl,xxl</td>\n",
       "      <td>women</td>\n",
       "      <td>135</td>\n",
       "      <td>206</td>\n",
       "      <td>250</td>\n",
       "      <td>205</td>\n",
       "      <td>155</td>\n",
       "      <td>155</td>\n",
       "      <td>0</td>\n",
       "    </tr>\n",
       "    <tr>\n",
       "      <th>28</th>\n",
       "      <td>Germany</td>\n",
       "      <td>WR9459</td>\n",
       "      <td>59</td>\n",
       "      <td>57.95</td>\n",
       "      <td>44.95</td>\n",
       "      <td>0.775669</td>\n",
       "      <td>2017-01-29</td>\n",
       "      <td>0</td>\n",
       "      <td>0</td>\n",
       "      <td>936.0</td>\n",
       "      <td>FG2965</td>\n",
       "      <td>HARDWARE ACCESSORIES</td>\n",
       "      <td>RUNNING</td>\n",
       "      <td>1.29</td>\n",
       "      <td>slim</td>\n",
       "      <td>xxs,xs,s,m,l,xl,xxl</td>\n",
       "      <td>women</td>\n",
       "      <td>181</td>\n",
       "      <td>181</td>\n",
       "      <td>181</td>\n",
       "      <td>205</td>\n",
       "      <td>155</td>\n",
       "      <td>155</td>\n",
       "      <td>0</td>\n",
       "    </tr>\n",
       "    <tr>\n",
       "      <th>29</th>\n",
       "      <td>Germany</td>\n",
       "      <td>WR9459</td>\n",
       "      <td>59</td>\n",
       "      <td>57.95</td>\n",
       "      <td>44.95</td>\n",
       "      <td>0.775669</td>\n",
       "      <td>2017-01-29</td>\n",
       "      <td>0</td>\n",
       "      <td>0</td>\n",
       "      <td>936.0</td>\n",
       "      <td>AC7347</td>\n",
       "      <td>SHOES</td>\n",
       "      <td>FOOTBALL GENERIC</td>\n",
       "      <td>8.70</td>\n",
       "      <td>regular</td>\n",
       "      <td>xxs,xs,s,m,l,xl,xxl</td>\n",
       "      <td>men</td>\n",
       "      <td>139</td>\n",
       "      <td>137</td>\n",
       "      <td>137</td>\n",
       "      <td>205</td>\n",
       "      <td>155</td>\n",
       "      <td>155</td>\n",
       "      <td>0</td>\n",
       "    </tr>\n",
       "    <tr>\n",
       "      <th>30</th>\n",
       "      <td>Austria</td>\n",
       "      <td>EF2771</td>\n",
       "      <td>72</td>\n",
       "      <td>28.95</td>\n",
       "      <td>18.95</td>\n",
       "      <td>0.654577</td>\n",
       "      <td>2017-02-26</td>\n",
       "      <td>0</td>\n",
       "      <td>0</td>\n",
       "      <td>4943.0</td>\n",
       "      <td>OC6355</td>\n",
       "      <td>SHOES</td>\n",
       "      <td>TRAINING</td>\n",
       "      <td>13.29</td>\n",
       "      <td>slim</td>\n",
       "      <td>xxs,xs,s,m,l,xl,xxl</td>\n",
       "      <td>women</td>\n",
       "      <td>205</td>\n",
       "      <td>104</td>\n",
       "      <td>57</td>\n",
       "      <td>255</td>\n",
       "      <td>187</td>\n",
       "      <td>255</td>\n",
       "      <td>0</td>\n",
       "    </tr>\n",
       "    <tr>\n",
       "      <th>31</th>\n",
       "      <td>Austria</td>\n",
       "      <td>EF2771</td>\n",
       "      <td>72</td>\n",
       "      <td>28.95</td>\n",
       "      <td>18.95</td>\n",
       "      <td>0.654577</td>\n",
       "      <td>2017-02-26</td>\n",
       "      <td>0</td>\n",
       "      <td>0</td>\n",
       "      <td>4943.0</td>\n",
       "      <td>AP5568</td>\n",
       "      <td>SHORTS</td>\n",
       "      <td>TRAINING</td>\n",
       "      <td>2.29</td>\n",
       "      <td>regular</td>\n",
       "      <td>xxs,xs,s,m,l,xl,xxl</td>\n",
       "      <td>women</td>\n",
       "      <td>188</td>\n",
       "      <td>238</td>\n",
       "      <td>104</td>\n",
       "      <td>255</td>\n",
       "      <td>187</td>\n",
       "      <td>255</td>\n",
       "      <td>1</td>\n",
       "    </tr>\n",
       "    <tr>\n",
       "      <th>32</th>\n",
       "      <td>Austria</td>\n",
       "      <td>EF2771</td>\n",
       "      <td>72</td>\n",
       "      <td>28.95</td>\n",
       "      <td>18.95</td>\n",
       "      <td>0.654577</td>\n",
       "      <td>2017-02-26</td>\n",
       "      <td>0</td>\n",
       "      <td>0</td>\n",
       "      <td>4943.0</td>\n",
       "      <td>CB8861</td>\n",
       "      <td>HARDWARE ACCESSORIES</td>\n",
       "      <td>GOLF</td>\n",
       "      <td>1.70</td>\n",
       "      <td>regular</td>\n",
       "      <td>xxs,xs,s,m,l,xl,xxl</td>\n",
       "      <td>women</td>\n",
       "      <td>205</td>\n",
       "      <td>173</td>\n",
       "      <td>0</td>\n",
       "      <td>255</td>\n",
       "      <td>187</td>\n",
       "      <td>255</td>\n",
       "      <td>0</td>\n",
       "    </tr>\n",
       "    <tr>\n",
       "      <th>33</th>\n",
       "      <td>Austria</td>\n",
       "      <td>EF2771</td>\n",
       "      <td>72</td>\n",
       "      <td>28.95</td>\n",
       "      <td>18.95</td>\n",
       "      <td>0.654577</td>\n",
       "      <td>2017-02-26</td>\n",
       "      <td>0</td>\n",
       "      <td>0</td>\n",
       "      <td>4943.0</td>\n",
       "      <td>LI3529</td>\n",
       "      <td>SHOES</td>\n",
       "      <td>RUNNING</td>\n",
       "      <td>9.00</td>\n",
       "      <td>regular</td>\n",
       "      <td>xxs,xs,s,m,l,xl,xxl</td>\n",
       "      <td>kids</td>\n",
       "      <td>205</td>\n",
       "      <td>140</td>\n",
       "      <td>149</td>\n",
       "      <td>164</td>\n",
       "      <td>211</td>\n",
       "      <td>238</td>\n",
       "      <td>0</td>\n",
       "    </tr>\n",
       "    <tr>\n",
       "      <th>34</th>\n",
       "      <td>Austria</td>\n",
       "      <td>EF2771</td>\n",
       "      <td>72</td>\n",
       "      <td>28.95</td>\n",
       "      <td>18.95</td>\n",
       "      <td>0.654577</td>\n",
       "      <td>2017-02-26</td>\n",
       "      <td>0</td>\n",
       "      <td>0</td>\n",
       "      <td>4943.0</td>\n",
       "      <td>GG8661</td>\n",
       "      <td>SHOES</td>\n",
       "      <td>RELAX CASUAL</td>\n",
       "      <td>9.60</td>\n",
       "      <td>regular</td>\n",
       "      <td>xxs,xs,s,m,l,xl,xxl</td>\n",
       "      <td>women</td>\n",
       "      <td>138</td>\n",
       "      <td>43</td>\n",
       "      <td>226</td>\n",
       "      <td>164</td>\n",
       "      <td>211</td>\n",
       "      <td>238</td>\n",
       "      <td>1</td>\n",
       "    </tr>\n",
       "    <tr>\n",
       "      <th>35</th>\n",
       "      <td>Austria</td>\n",
       "      <td>EF2771</td>\n",
       "      <td>72</td>\n",
       "      <td>28.95</td>\n",
       "      <td>18.95</td>\n",
       "      <td>0.654577</td>\n",
       "      <td>2017-02-26</td>\n",
       "      <td>0</td>\n",
       "      <td>0</td>\n",
       "      <td>4943.0</td>\n",
       "      <td>TX1463</td>\n",
       "      <td>SWEATSHIRTS</td>\n",
       "      <td>TRAINING</td>\n",
       "      <td>4.20</td>\n",
       "      <td>wide</td>\n",
       "      <td>xxs,xs,s,m,l,xl,xxl</td>\n",
       "      <td>women</td>\n",
       "      <td>79</td>\n",
       "      <td>148</td>\n",
       "      <td>205</td>\n",
       "      <td>164</td>\n",
       "      <td>211</td>\n",
       "      <td>238</td>\n",
       "      <td>0</td>\n",
       "    </tr>\n",
       "    <tr>\n",
       "      <th>36</th>\n",
       "      <td>Austria</td>\n",
       "      <td>EF2771</td>\n",
       "      <td>72</td>\n",
       "      <td>28.95</td>\n",
       "      <td>18.95</td>\n",
       "      <td>0.654577</td>\n",
       "      <td>2017-02-26</td>\n",
       "      <td>0</td>\n",
       "      <td>0</td>\n",
       "      <td>4943.0</td>\n",
       "      <td>PC6383</td>\n",
       "      <td>SHOES</td>\n",
       "      <td>FOOTBALL GENERIC</td>\n",
       "      <td>9.90</td>\n",
       "      <td>wide</td>\n",
       "      <td>xs,s,m,l,xl</td>\n",
       "      <td>unisex</td>\n",
       "      <td>139</td>\n",
       "      <td>26</td>\n",
       "      <td>26</td>\n",
       "      <td>205</td>\n",
       "      <td>155</td>\n",
       "      <td>155</td>\n",
       "      <td>0</td>\n",
       "    </tr>\n",
       "    <tr>\n",
       "      <th>37</th>\n",
       "      <td>Austria</td>\n",
       "      <td>EF2771</td>\n",
       "      <td>72</td>\n",
       "      <td>28.95</td>\n",
       "      <td>18.95</td>\n",
       "      <td>0.654577</td>\n",
       "      <td>2017-02-26</td>\n",
       "      <td>0</td>\n",
       "      <td>0</td>\n",
       "      <td>4943.0</td>\n",
       "      <td>VT7698</td>\n",
       "      <td>SHOES</td>\n",
       "      <td>INDOOR</td>\n",
       "      <td>5.20</td>\n",
       "      <td>wide</td>\n",
       "      <td>xxs,xs,s,m,l,xl,xxl</td>\n",
       "      <td>women</td>\n",
       "      <td>135</td>\n",
       "      <td>206</td>\n",
       "      <td>250</td>\n",
       "      <td>205</td>\n",
       "      <td>155</td>\n",
       "      <td>155</td>\n",
       "      <td>0</td>\n",
       "    </tr>\n",
       "    <tr>\n",
       "      <th>38</th>\n",
       "      <td>Austria</td>\n",
       "      <td>EF2771</td>\n",
       "      <td>72</td>\n",
       "      <td>28.95</td>\n",
       "      <td>18.95</td>\n",
       "      <td>0.654577</td>\n",
       "      <td>2017-02-26</td>\n",
       "      <td>0</td>\n",
       "      <td>0</td>\n",
       "      <td>4943.0</td>\n",
       "      <td>FG2965</td>\n",
       "      <td>HARDWARE ACCESSORIES</td>\n",
       "      <td>RUNNING</td>\n",
       "      <td>1.29</td>\n",
       "      <td>slim</td>\n",
       "      <td>xxs,xs,s,m,l,xl,xxl</td>\n",
       "      <td>women</td>\n",
       "      <td>181</td>\n",
       "      <td>181</td>\n",
       "      <td>181</td>\n",
       "      <td>205</td>\n",
       "      <td>155</td>\n",
       "      <td>155</td>\n",
       "      <td>1</td>\n",
       "    </tr>\n",
       "    <tr>\n",
       "      <th>39</th>\n",
       "      <td>Austria</td>\n",
       "      <td>EF2771</td>\n",
       "      <td>72</td>\n",
       "      <td>28.95</td>\n",
       "      <td>18.95</td>\n",
       "      <td>0.654577</td>\n",
       "      <td>2017-02-26</td>\n",
       "      <td>0</td>\n",
       "      <td>0</td>\n",
       "      <td>4943.0</td>\n",
       "      <td>AC7347</td>\n",
       "      <td>SHOES</td>\n",
       "      <td>FOOTBALL GENERIC</td>\n",
       "      <td>8.70</td>\n",
       "      <td>regular</td>\n",
       "      <td>xxs,xs,s,m,l,xl,xxl</td>\n",
       "      <td>men</td>\n",
       "      <td>139</td>\n",
       "      <td>137</td>\n",
       "      <td>137</td>\n",
       "      <td>205</td>\n",
       "      <td>155</td>\n",
       "      <td>155</td>\n",
       "      <td>0</td>\n",
       "    </tr>\n",
       "    <tr>\n",
       "      <th>40</th>\n",
       "      <td>Austria</td>\n",
       "      <td>LX1494</td>\n",
       "      <td>18</td>\n",
       "      <td>11.95</td>\n",
       "      <td>5.95</td>\n",
       "      <td>0.497908</td>\n",
       "      <td>2016-12-25</td>\n",
       "      <td>0</td>\n",
       "      <td>0</td>\n",
       "      <td>5492.0</td>\n",
       "      <td>OC6355</td>\n",
       "      <td>SHOES</td>\n",
       "      <td>TRAINING</td>\n",
       "      <td>13.29</td>\n",
       "      <td>slim</td>\n",
       "      <td>xxs,xs,s,m,l,xl,xxl</td>\n",
       "      <td>women</td>\n",
       "      <td>205</td>\n",
       "      <td>104</td>\n",
       "      <td>57</td>\n",
       "      <td>255</td>\n",
       "      <td>187</td>\n",
       "      <td>255</td>\n",
       "      <td>0</td>\n",
       "    </tr>\n",
       "    <tr>\n",
       "      <th>41</th>\n",
       "      <td>Austria</td>\n",
       "      <td>LX1494</td>\n",
       "      <td>18</td>\n",
       "      <td>11.95</td>\n",
       "      <td>5.95</td>\n",
       "      <td>0.497908</td>\n",
       "      <td>2016-12-25</td>\n",
       "      <td>0</td>\n",
       "      <td>0</td>\n",
       "      <td>5492.0</td>\n",
       "      <td>AP5568</td>\n",
       "      <td>SHORTS</td>\n",
       "      <td>TRAINING</td>\n",
       "      <td>2.29</td>\n",
       "      <td>regular</td>\n",
       "      <td>xxs,xs,s,m,l,xl,xxl</td>\n",
       "      <td>women</td>\n",
       "      <td>188</td>\n",
       "      <td>238</td>\n",
       "      <td>104</td>\n",
       "      <td>255</td>\n",
       "      <td>187</td>\n",
       "      <td>255</td>\n",
       "      <td>0</td>\n",
       "    </tr>\n",
       "    <tr>\n",
       "      <th>42</th>\n",
       "      <td>Austria</td>\n",
       "      <td>LX1494</td>\n",
       "      <td>18</td>\n",
       "      <td>11.95</td>\n",
       "      <td>5.95</td>\n",
       "      <td>0.497908</td>\n",
       "      <td>2016-12-25</td>\n",
       "      <td>0</td>\n",
       "      <td>0</td>\n",
       "      <td>5492.0</td>\n",
       "      <td>CB8861</td>\n",
       "      <td>HARDWARE ACCESSORIES</td>\n",
       "      <td>GOLF</td>\n",
       "      <td>1.70</td>\n",
       "      <td>regular</td>\n",
       "      <td>xxs,xs,s,m,l,xl,xxl</td>\n",
       "      <td>women</td>\n",
       "      <td>205</td>\n",
       "      <td>173</td>\n",
       "      <td>0</td>\n",
       "      <td>255</td>\n",
       "      <td>187</td>\n",
       "      <td>255</td>\n",
       "      <td>0</td>\n",
       "    </tr>\n",
       "    <tr>\n",
       "      <th>43</th>\n",
       "      <td>Austria</td>\n",
       "      <td>LX1494</td>\n",
       "      <td>18</td>\n",
       "      <td>11.95</td>\n",
       "      <td>5.95</td>\n",
       "      <td>0.497908</td>\n",
       "      <td>2016-12-25</td>\n",
       "      <td>0</td>\n",
       "      <td>0</td>\n",
       "      <td>5492.0</td>\n",
       "      <td>LI3529</td>\n",
       "      <td>SHOES</td>\n",
       "      <td>RUNNING</td>\n",
       "      <td>9.00</td>\n",
       "      <td>regular</td>\n",
       "      <td>xxs,xs,s,m,l,xl,xxl</td>\n",
       "      <td>kids</td>\n",
       "      <td>205</td>\n",
       "      <td>140</td>\n",
       "      <td>149</td>\n",
       "      <td>164</td>\n",
       "      <td>211</td>\n",
       "      <td>238</td>\n",
       "      <td>0</td>\n",
       "    </tr>\n",
       "    <tr>\n",
       "      <th>44</th>\n",
       "      <td>Austria</td>\n",
       "      <td>LX1494</td>\n",
       "      <td>18</td>\n",
       "      <td>11.95</td>\n",
       "      <td>5.95</td>\n",
       "      <td>0.497908</td>\n",
       "      <td>2016-12-25</td>\n",
       "      <td>0</td>\n",
       "      <td>0</td>\n",
       "      <td>5492.0</td>\n",
       "      <td>GG8661</td>\n",
       "      <td>SHOES</td>\n",
       "      <td>RELAX CASUAL</td>\n",
       "      <td>9.60</td>\n",
       "      <td>regular</td>\n",
       "      <td>xxs,xs,s,m,l,xl,xxl</td>\n",
       "      <td>women</td>\n",
       "      <td>138</td>\n",
       "      <td>43</td>\n",
       "      <td>226</td>\n",
       "      <td>164</td>\n",
       "      <td>211</td>\n",
       "      <td>238</td>\n",
       "      <td>0</td>\n",
       "    </tr>\n",
       "    <tr>\n",
       "      <th>45</th>\n",
       "      <td>Austria</td>\n",
       "      <td>LX1494</td>\n",
       "      <td>18</td>\n",
       "      <td>11.95</td>\n",
       "      <td>5.95</td>\n",
       "      <td>0.497908</td>\n",
       "      <td>2016-12-25</td>\n",
       "      <td>0</td>\n",
       "      <td>0</td>\n",
       "      <td>5492.0</td>\n",
       "      <td>TX1463</td>\n",
       "      <td>SWEATSHIRTS</td>\n",
       "      <td>TRAINING</td>\n",
       "      <td>4.20</td>\n",
       "      <td>wide</td>\n",
       "      <td>xxs,xs,s,m,l,xl,xxl</td>\n",
       "      <td>women</td>\n",
       "      <td>79</td>\n",
       "      <td>148</td>\n",
       "      <td>205</td>\n",
       "      <td>164</td>\n",
       "      <td>211</td>\n",
       "      <td>238</td>\n",
       "      <td>0</td>\n",
       "    </tr>\n",
       "    <tr>\n",
       "      <th>46</th>\n",
       "      <td>Austria</td>\n",
       "      <td>LX1494</td>\n",
       "      <td>18</td>\n",
       "      <td>11.95</td>\n",
       "      <td>5.95</td>\n",
       "      <td>0.497908</td>\n",
       "      <td>2016-12-25</td>\n",
       "      <td>0</td>\n",
       "      <td>0</td>\n",
       "      <td>5492.0</td>\n",
       "      <td>PC6383</td>\n",
       "      <td>SHOES</td>\n",
       "      <td>FOOTBALL GENERIC</td>\n",
       "      <td>9.90</td>\n",
       "      <td>wide</td>\n",
       "      <td>xs,s,m,l,xl</td>\n",
       "      <td>unisex</td>\n",
       "      <td>139</td>\n",
       "      <td>26</td>\n",
       "      <td>26</td>\n",
       "      <td>205</td>\n",
       "      <td>155</td>\n",
       "      <td>155</td>\n",
       "      <td>0</td>\n",
       "    </tr>\n",
       "    <tr>\n",
       "      <th>47</th>\n",
       "      <td>Austria</td>\n",
       "      <td>LX1494</td>\n",
       "      <td>18</td>\n",
       "      <td>11.95</td>\n",
       "      <td>5.95</td>\n",
       "      <td>0.497908</td>\n",
       "      <td>2016-12-25</td>\n",
       "      <td>0</td>\n",
       "      <td>0</td>\n",
       "      <td>5492.0</td>\n",
       "      <td>VT7698</td>\n",
       "      <td>SHOES</td>\n",
       "      <td>INDOOR</td>\n",
       "      <td>5.20</td>\n",
       "      <td>wide</td>\n",
       "      <td>xxs,xs,s,m,l,xl,xxl</td>\n",
       "      <td>women</td>\n",
       "      <td>135</td>\n",
       "      <td>206</td>\n",
       "      <td>250</td>\n",
       "      <td>205</td>\n",
       "      <td>155</td>\n",
       "      <td>155</td>\n",
       "      <td>0</td>\n",
       "    </tr>\n",
       "    <tr>\n",
       "      <th>48</th>\n",
       "      <td>Austria</td>\n",
       "      <td>LX1494</td>\n",
       "      <td>18</td>\n",
       "      <td>11.95</td>\n",
       "      <td>5.95</td>\n",
       "      <td>0.497908</td>\n",
       "      <td>2016-12-25</td>\n",
       "      <td>0</td>\n",
       "      <td>0</td>\n",
       "      <td>5492.0</td>\n",
       "      <td>FG2965</td>\n",
       "      <td>HARDWARE ACCESSORIES</td>\n",
       "      <td>RUNNING</td>\n",
       "      <td>1.29</td>\n",
       "      <td>slim</td>\n",
       "      <td>xxs,xs,s,m,l,xl,xxl</td>\n",
       "      <td>women</td>\n",
       "      <td>181</td>\n",
       "      <td>181</td>\n",
       "      <td>181</td>\n",
       "      <td>205</td>\n",
       "      <td>155</td>\n",
       "      <td>155</td>\n",
       "      <td>0</td>\n",
       "    </tr>\n",
       "    <tr>\n",
       "      <th>49</th>\n",
       "      <td>Austria</td>\n",
       "      <td>LX1494</td>\n",
       "      <td>18</td>\n",
       "      <td>11.95</td>\n",
       "      <td>5.95</td>\n",
       "      <td>0.497908</td>\n",
       "      <td>2016-12-25</td>\n",
       "      <td>0</td>\n",
       "      <td>0</td>\n",
       "      <td>5492.0</td>\n",
       "      <td>AC7347</td>\n",
       "      <td>SHOES</td>\n",
       "      <td>FOOTBALL GENERIC</td>\n",
       "      <td>8.70</td>\n",
       "      <td>regular</td>\n",
       "      <td>xxs,xs,s,m,l,xl,xxl</td>\n",
       "      <td>men</td>\n",
       "      <td>139</td>\n",
       "      <td>137</td>\n",
       "      <td>137</td>\n",
       "      <td>205</td>\n",
       "      <td>155</td>\n",
       "      <td>155</td>\n",
       "      <td>0</td>\n",
       "    </tr>\n",
       "  </tbody>\n",
       "</table>\n",
       "</div>"
      ],
      "text/plain": [
       "    country article  sales  regular_price  current_price     ratio  \\\n",
       "0   Germany  YN8639     28           5.95           3.95  0.663866   \n",
       "1   Germany  YN8639     28           5.95           3.95  0.663866   \n",
       "2   Germany  YN8639     28           5.95           3.95  0.663866   \n",
       "3   Germany  YN8639     28           5.95           3.95  0.663866   \n",
       "4   Germany  YN8639     28           5.95           3.95  0.663866   \n",
       "5   Germany  YN8639     28           5.95           3.95  0.663866   \n",
       "6   Germany  YN8639     28           5.95           3.95  0.663866   \n",
       "7   Germany  YN8639     28           5.95           3.95  0.663866   \n",
       "8   Germany  YN8639     28           5.95           3.95  0.663866   \n",
       "9   Germany  YN8639     28           5.95           3.95  0.663866   \n",
       "10  Germany  CF3238     27          37.95          28.95  0.762846   \n",
       "11  Germany  CF3238     27          37.95          28.95  0.762846   \n",
       "12  Germany  CF3238     27          37.95          28.95  0.762846   \n",
       "13  Germany  CF3238     27          37.95          28.95  0.762846   \n",
       "14  Germany  CF3238     27          37.95          28.95  0.762846   \n",
       "15  Germany  CF3238     27          37.95          28.95  0.762846   \n",
       "16  Germany  CF3238     27          37.95          28.95  0.762846   \n",
       "17  Germany  CF3238     27          37.95          28.95  0.762846   \n",
       "18  Germany  CF3238     27          37.95          28.95  0.762846   \n",
       "19  Germany  CF3238     27          37.95          28.95  0.762846   \n",
       "20  Germany  WR9459     59          57.95          44.95  0.775669   \n",
       "21  Germany  WR9459     59          57.95          44.95  0.775669   \n",
       "22  Germany  WR9459     59          57.95          44.95  0.775669   \n",
       "23  Germany  WR9459     59          57.95          44.95  0.775669   \n",
       "24  Germany  WR9459     59          57.95          44.95  0.775669   \n",
       "25  Germany  WR9459     59          57.95          44.95  0.775669   \n",
       "26  Germany  WR9459     59          57.95          44.95  0.775669   \n",
       "27  Germany  WR9459     59          57.95          44.95  0.775669   \n",
       "28  Germany  WR9459     59          57.95          44.95  0.775669   \n",
       "29  Germany  WR9459     59          57.95          44.95  0.775669   \n",
       "30  Austria  EF2771     72          28.95          18.95  0.654577   \n",
       "31  Austria  EF2771     72          28.95          18.95  0.654577   \n",
       "32  Austria  EF2771     72          28.95          18.95  0.654577   \n",
       "33  Austria  EF2771     72          28.95          18.95  0.654577   \n",
       "34  Austria  EF2771     72          28.95          18.95  0.654577   \n",
       "35  Austria  EF2771     72          28.95          18.95  0.654577   \n",
       "36  Austria  EF2771     72          28.95          18.95  0.654577   \n",
       "37  Austria  EF2771     72          28.95          18.95  0.654577   \n",
       "38  Austria  EF2771     72          28.95          18.95  0.654577   \n",
       "39  Austria  EF2771     72          28.95          18.95  0.654577   \n",
       "40  Austria  LX1494     18          11.95           5.95  0.497908   \n",
       "41  Austria  LX1494     18          11.95           5.95  0.497908   \n",
       "42  Austria  LX1494     18          11.95           5.95  0.497908   \n",
       "43  Austria  LX1494     18          11.95           5.95  0.497908   \n",
       "44  Austria  LX1494     18          11.95           5.95  0.497908   \n",
       "45  Austria  LX1494     18          11.95           5.95  0.497908   \n",
       "46  Austria  LX1494     18          11.95           5.95  0.497908   \n",
       "47  Austria  LX1494     18          11.95           5.95  0.497908   \n",
       "48  Austria  LX1494     18          11.95           5.95  0.497908   \n",
       "49  Austria  LX1494     18          11.95           5.95  0.497908   \n",
       "\n",
       "    retailweek  promo1  promo2  customer_id article.1          productgroup  \\\n",
       "0   2016-03-27       0       0       1003.0    OC6355                 SHOES   \n",
       "1   2016-03-27       0       0       1003.0    AP5568                SHORTS   \n",
       "2   2016-03-27       0       0       1003.0    CB8861  HARDWARE ACCESSORIES   \n",
       "3   2016-03-27       0       0       1003.0    LI3529                 SHOES   \n",
       "4   2016-03-27       0       0       1003.0    GG8661                 SHOES   \n",
       "5   2016-03-27       0       0       1003.0    TX1463           SWEATSHIRTS   \n",
       "6   2016-03-27       0       0       1003.0    PC6383                 SHOES   \n",
       "7   2016-03-27       0       0       1003.0    VT7698                 SHOES   \n",
       "8   2016-03-27       0       0       1003.0    FG2965  HARDWARE ACCESSORIES   \n",
       "9   2016-03-27       0       0       1003.0    AC7347                 SHOES   \n",
       "10  2015-01-25       0       0       1649.0    OC6355                 SHOES   \n",
       "11  2015-01-25       0       0       1649.0    AP5568                SHORTS   \n",
       "12  2015-01-25       0       0       1649.0    CB8861  HARDWARE ACCESSORIES   \n",
       "13  2015-01-25       0       0       1649.0    LI3529                 SHOES   \n",
       "14  2015-01-25       0       0       1649.0    GG8661                 SHOES   \n",
       "15  2015-01-25       0       0       1649.0    TX1463           SWEATSHIRTS   \n",
       "16  2015-01-25       0       0       1649.0    PC6383                 SHOES   \n",
       "17  2015-01-25       0       0       1649.0    VT7698                 SHOES   \n",
       "18  2015-01-25       0       0       1649.0    FG2965  HARDWARE ACCESSORIES   \n",
       "19  2015-01-25       0       0       1649.0    AC7347                 SHOES   \n",
       "20  2017-01-29       0       0        936.0    OC6355                 SHOES   \n",
       "21  2017-01-29       0       0        936.0    AP5568                SHORTS   \n",
       "22  2017-01-29       0       0        936.0    CB8861  HARDWARE ACCESSORIES   \n",
       "23  2017-01-29       0       0        936.0    LI3529                 SHOES   \n",
       "24  2017-01-29       0       0        936.0    GG8661                 SHOES   \n",
       "25  2017-01-29       0       0        936.0    TX1463           SWEATSHIRTS   \n",
       "26  2017-01-29       0       0        936.0    PC6383                 SHOES   \n",
       "27  2017-01-29       0       0        936.0    VT7698                 SHOES   \n",
       "28  2017-01-29       0       0        936.0    FG2965  HARDWARE ACCESSORIES   \n",
       "29  2017-01-29       0       0        936.0    AC7347                 SHOES   \n",
       "30  2017-02-26       0       0       4943.0    OC6355                 SHOES   \n",
       "31  2017-02-26       0       0       4943.0    AP5568                SHORTS   \n",
       "32  2017-02-26       0       0       4943.0    CB8861  HARDWARE ACCESSORIES   \n",
       "33  2017-02-26       0       0       4943.0    LI3529                 SHOES   \n",
       "34  2017-02-26       0       0       4943.0    GG8661                 SHOES   \n",
       "35  2017-02-26       0       0       4943.0    TX1463           SWEATSHIRTS   \n",
       "36  2017-02-26       0       0       4943.0    PC6383                 SHOES   \n",
       "37  2017-02-26       0       0       4943.0    VT7698                 SHOES   \n",
       "38  2017-02-26       0       0       4943.0    FG2965  HARDWARE ACCESSORIES   \n",
       "39  2017-02-26       0       0       4943.0    AC7347                 SHOES   \n",
       "40  2016-12-25       0       0       5492.0    OC6355                 SHOES   \n",
       "41  2016-12-25       0       0       5492.0    AP5568                SHORTS   \n",
       "42  2016-12-25       0       0       5492.0    CB8861  HARDWARE ACCESSORIES   \n",
       "43  2016-12-25       0       0       5492.0    LI3529                 SHOES   \n",
       "44  2016-12-25       0       0       5492.0    GG8661                 SHOES   \n",
       "45  2016-12-25       0       0       5492.0    TX1463           SWEATSHIRTS   \n",
       "46  2016-12-25       0       0       5492.0    PC6383                 SHOES   \n",
       "47  2016-12-25       0       0       5492.0    VT7698                 SHOES   \n",
       "48  2016-12-25       0       0       5492.0    FG2965  HARDWARE ACCESSORIES   \n",
       "49  2016-12-25       0       0       5492.0    AC7347                 SHOES   \n",
       "\n",
       "            category   cost    style                sizes  gender  \\\n",
       "0           TRAINING  13.29     slim  xxs,xs,s,m,l,xl,xxl   women   \n",
       "1           TRAINING   2.29  regular  xxs,xs,s,m,l,xl,xxl   women   \n",
       "2               GOLF   1.70  regular  xxs,xs,s,m,l,xl,xxl   women   \n",
       "3            RUNNING   9.00  regular  xxs,xs,s,m,l,xl,xxl    kids   \n",
       "4       RELAX CASUAL   9.60  regular  xxs,xs,s,m,l,xl,xxl   women   \n",
       "5           TRAINING   4.20     wide  xxs,xs,s,m,l,xl,xxl   women   \n",
       "6   FOOTBALL GENERIC   9.90     wide          xs,s,m,l,xl  unisex   \n",
       "7             INDOOR   5.20     wide  xxs,xs,s,m,l,xl,xxl   women   \n",
       "8            RUNNING   1.29     slim  xxs,xs,s,m,l,xl,xxl   women   \n",
       "9   FOOTBALL GENERIC   8.70  regular  xxs,xs,s,m,l,xl,xxl     men   \n",
       "10          TRAINING  13.29     slim  xxs,xs,s,m,l,xl,xxl   women   \n",
       "11          TRAINING   2.29  regular  xxs,xs,s,m,l,xl,xxl   women   \n",
       "12              GOLF   1.70  regular  xxs,xs,s,m,l,xl,xxl   women   \n",
       "13           RUNNING   9.00  regular  xxs,xs,s,m,l,xl,xxl    kids   \n",
       "14      RELAX CASUAL   9.60  regular  xxs,xs,s,m,l,xl,xxl   women   \n",
       "15          TRAINING   4.20     wide  xxs,xs,s,m,l,xl,xxl   women   \n",
       "16  FOOTBALL GENERIC   9.90     wide          xs,s,m,l,xl  unisex   \n",
       "17            INDOOR   5.20     wide  xxs,xs,s,m,l,xl,xxl   women   \n",
       "18           RUNNING   1.29     slim  xxs,xs,s,m,l,xl,xxl   women   \n",
       "19  FOOTBALL GENERIC   8.70  regular  xxs,xs,s,m,l,xl,xxl     men   \n",
       "20          TRAINING  13.29     slim  xxs,xs,s,m,l,xl,xxl   women   \n",
       "21          TRAINING   2.29  regular  xxs,xs,s,m,l,xl,xxl   women   \n",
       "22              GOLF   1.70  regular  xxs,xs,s,m,l,xl,xxl   women   \n",
       "23           RUNNING   9.00  regular  xxs,xs,s,m,l,xl,xxl    kids   \n",
       "24      RELAX CASUAL   9.60  regular  xxs,xs,s,m,l,xl,xxl   women   \n",
       "25          TRAINING   4.20     wide  xxs,xs,s,m,l,xl,xxl   women   \n",
       "26  FOOTBALL GENERIC   9.90     wide          xs,s,m,l,xl  unisex   \n",
       "27            INDOOR   5.20     wide  xxs,xs,s,m,l,xl,xxl   women   \n",
       "28           RUNNING   1.29     slim  xxs,xs,s,m,l,xl,xxl   women   \n",
       "29  FOOTBALL GENERIC   8.70  regular  xxs,xs,s,m,l,xl,xxl     men   \n",
       "30          TRAINING  13.29     slim  xxs,xs,s,m,l,xl,xxl   women   \n",
       "31          TRAINING   2.29  regular  xxs,xs,s,m,l,xl,xxl   women   \n",
       "32              GOLF   1.70  regular  xxs,xs,s,m,l,xl,xxl   women   \n",
       "33           RUNNING   9.00  regular  xxs,xs,s,m,l,xl,xxl    kids   \n",
       "34      RELAX CASUAL   9.60  regular  xxs,xs,s,m,l,xl,xxl   women   \n",
       "35          TRAINING   4.20     wide  xxs,xs,s,m,l,xl,xxl   women   \n",
       "36  FOOTBALL GENERIC   9.90     wide          xs,s,m,l,xl  unisex   \n",
       "37            INDOOR   5.20     wide  xxs,xs,s,m,l,xl,xxl   women   \n",
       "38           RUNNING   1.29     slim  xxs,xs,s,m,l,xl,xxl   women   \n",
       "39  FOOTBALL GENERIC   8.70  regular  xxs,xs,s,m,l,xl,xxl     men   \n",
       "40          TRAINING  13.29     slim  xxs,xs,s,m,l,xl,xxl   women   \n",
       "41          TRAINING   2.29  regular  xxs,xs,s,m,l,xl,xxl   women   \n",
       "42              GOLF   1.70  regular  xxs,xs,s,m,l,xl,xxl   women   \n",
       "43           RUNNING   9.00  regular  xxs,xs,s,m,l,xl,xxl    kids   \n",
       "44      RELAX CASUAL   9.60  regular  xxs,xs,s,m,l,xl,xxl   women   \n",
       "45          TRAINING   4.20     wide  xxs,xs,s,m,l,xl,xxl   women   \n",
       "46  FOOTBALL GENERIC   9.90     wide          xs,s,m,l,xl  unisex   \n",
       "47            INDOOR   5.20     wide  xxs,xs,s,m,l,xl,xxl   women   \n",
       "48           RUNNING   1.29     slim  xxs,xs,s,m,l,xl,xxl   women   \n",
       "49  FOOTBALL GENERIC   8.70  regular  xxs,xs,s,m,l,xl,xxl     men   \n",
       "\n",
       "    rgb_r_main_col  rgb_g_main_col  rgb_b_main_col  rgb_r_sec_col  \\\n",
       "0              205             104              57            255   \n",
       "1              188             238             104            255   \n",
       "2              205             173               0            255   \n",
       "3              205             140             149            164   \n",
       "4              138              43             226            164   \n",
       "5               79             148             205            164   \n",
       "6              139              26              26            205   \n",
       "7              135             206             250            205   \n",
       "8              181             181             181            205   \n",
       "9              139             137             137            205   \n",
       "10             205             104              57            255   \n",
       "11             188             238             104            255   \n",
       "12             205             173               0            255   \n",
       "13             205             140             149            164   \n",
       "14             138              43             226            164   \n",
       "15              79             148             205            164   \n",
       "16             139              26              26            205   \n",
       "17             135             206             250            205   \n",
       "18             181             181             181            205   \n",
       "19             139             137             137            205   \n",
       "20             205             104              57            255   \n",
       "21             188             238             104            255   \n",
       "22             205             173               0            255   \n",
       "23             205             140             149            164   \n",
       "24             138              43             226            164   \n",
       "25              79             148             205            164   \n",
       "26             139              26              26            205   \n",
       "27             135             206             250            205   \n",
       "28             181             181             181            205   \n",
       "29             139             137             137            205   \n",
       "30             205             104              57            255   \n",
       "31             188             238             104            255   \n",
       "32             205             173               0            255   \n",
       "33             205             140             149            164   \n",
       "34             138              43             226            164   \n",
       "35              79             148             205            164   \n",
       "36             139              26              26            205   \n",
       "37             135             206             250            205   \n",
       "38             181             181             181            205   \n",
       "39             139             137             137            205   \n",
       "40             205             104              57            255   \n",
       "41             188             238             104            255   \n",
       "42             205             173               0            255   \n",
       "43             205             140             149            164   \n",
       "44             138              43             226            164   \n",
       "45              79             148             205            164   \n",
       "46             139              26              26            205   \n",
       "47             135             206             250            205   \n",
       "48             181             181             181            205   \n",
       "49             139             137             137            205   \n",
       "\n",
       "    rgb_g_sec_col  rgb_b_sec_col  label  \n",
       "0             187            255      0  \n",
       "1             187            255      0  \n",
       "2             187            255      0  \n",
       "3             211            238      0  \n",
       "4             211            238      0  \n",
       "5             211            238      1  \n",
       "6             155            155      0  \n",
       "7             155            155      1  \n",
       "8             155            155      0  \n",
       "9             155            155      1  \n",
       "10            187            255      0  \n",
       "11            187            255      0  \n",
       "12            187            255      0  \n",
       "13            211            238      1  \n",
       "14            211            238      0  \n",
       "15            211            238      1  \n",
       "16            155            155      0  \n",
       "17            155            155      1  \n",
       "18            155            155      0  \n",
       "19            155            155      0  \n",
       "20            187            255      0  \n",
       "21            187            255      1  \n",
       "22            187            255      0  \n",
       "23            211            238      1  \n",
       "24            211            238      0  \n",
       "25            211            238      0  \n",
       "26            155            155      0  \n",
       "27            155            155      0  \n",
       "28            155            155      0  \n",
       "29            155            155      0  \n",
       "30            187            255      0  \n",
       "31            187            255      1  \n",
       "32            187            255      0  \n",
       "33            211            238      0  \n",
       "34            211            238      1  \n",
       "35            211            238      0  \n",
       "36            155            155      0  \n",
       "37            155            155      0  \n",
       "38            155            155      1  \n",
       "39            155            155      0  \n",
       "40            187            255      0  \n",
       "41            187            255      0  \n",
       "42            187            255      0  \n",
       "43            211            238      0  \n",
       "44            211            238      0  \n",
       "45            211            238      0  \n",
       "46            155            155      0  \n",
       "47            155            155      0  \n",
       "48            155            155      0  \n",
       "49            155            155      0  "
      ]
     },
     "execution_count": 2,
     "metadata": {},
     "output_type": "execute_result"
    }
   ],
   "source": [
    "df = pd.read_csv('full_gen_data.csv')\n",
    "df.head(50)"
   ]
  },
  {
   "cell_type": "code",
   "execution_count": 3,
   "metadata": {
    "pycharm": {
     "name": "#%%\n"
    }
   },
   "outputs": [
    {
     "name": "stdout",
     "output_type": "stream",
     "text": [
      "The shape of the dataset is: (100000, 24)\n"
     ]
    }
   ],
   "source": [
    "print('The shape of the dataset is:', df.shape)"
   ]
  },
  {
   "cell_type": "markdown",
   "metadata": {
    "pycharm": {
     "name": "#%% md\n"
    }
   },
   "source": [
    "## 2. <a name=\"2\">Data Exploration</a>\n",
    "(<a href=\"#0\">Go to top</a>)\n",
    "\n",
    "We look at number of rows, columns and some simple statistics of the dataset."
   ]
  },
  {
   "cell_type": "code",
   "execution_count": 4,
   "metadata": {
    "pycharm": {
     "name": "#%%\n"
    }
   },
   "outputs": [
    {
     "data": {
      "text/html": [
       "<div>\n",
       "<style scoped>\n",
       "    .dataframe tbody tr th:only-of-type {\n",
       "        vertical-align: middle;\n",
       "    }\n",
       "\n",
       "    .dataframe tbody tr th {\n",
       "        vertical-align: top;\n",
       "    }\n",
       "\n",
       "    .dataframe thead th {\n",
       "        text-align: right;\n",
       "    }\n",
       "</style>\n",
       "<table border=\"1\" class=\"dataframe\">\n",
       "  <thead>\n",
       "    <tr style=\"text-align: right;\">\n",
       "      <th></th>\n",
       "      <th>sales</th>\n",
       "      <th>regular_price</th>\n",
       "      <th>current_price</th>\n",
       "      <th>ratio</th>\n",
       "      <th>promo1</th>\n",
       "      <th>promo2</th>\n",
       "      <th>customer_id</th>\n",
       "      <th>cost</th>\n",
       "      <th>rgb_r_main_col</th>\n",
       "      <th>rgb_g_main_col</th>\n",
       "      <th>rgb_b_main_col</th>\n",
       "      <th>rgb_r_sec_col</th>\n",
       "      <th>rgb_g_sec_col</th>\n",
       "      <th>rgb_b_sec_col</th>\n",
       "      <th>label</th>\n",
       "    </tr>\n",
       "  </thead>\n",
       "  <tbody>\n",
       "    <tr>\n",
       "      <th>count</th>\n",
       "      <td>100000.000000</td>\n",
       "      <td>100000.000000</td>\n",
       "      <td>100000.000000</td>\n",
       "      <td>100000.000000</td>\n",
       "      <td>100000.000000</td>\n",
       "      <td>100000.000000</td>\n",
       "      <td>100000.000000</td>\n",
       "      <td>100000.000000</td>\n",
       "      <td>100000.000000</td>\n",
       "      <td>100000.000000</td>\n",
       "      <td>100000.000000</td>\n",
       "      <td>100000.000000</td>\n",
       "      <td>100000.000000</td>\n",
       "      <td>100000.000000</td>\n",
       "      <td>100000.00000</td>\n",
       "    </tr>\n",
       "    <tr>\n",
       "      <th>mean</th>\n",
       "      <td>56.781800</td>\n",
       "      <td>52.391200</td>\n",
       "      <td>28.290800</td>\n",
       "      <td>0.545646</td>\n",
       "      <td>0.061900</td>\n",
       "      <td>0.004900</td>\n",
       "      <td>2721.726500</td>\n",
       "      <td>6.517000</td>\n",
       "      <td>161.400000</td>\n",
       "      <td>139.600000</td>\n",
       "      <td>133.500000</td>\n",
       "      <td>207.700000</td>\n",
       "      <td>181.400000</td>\n",
       "      <td>209.900000</td>\n",
       "      <td>0.13928</td>\n",
       "    </tr>\n",
       "    <tr>\n",
       "      <th>std</th>\n",
       "      <td>87.934743</td>\n",
       "      <td>35.272128</td>\n",
       "      <td>22.578343</td>\n",
       "      <td>0.194363</td>\n",
       "      <td>0.240975</td>\n",
       "      <td>0.069829</td>\n",
       "      <td>1908.085499</td>\n",
       "      <td>3.914728</td>\n",
       "      <td>39.790147</td>\n",
       "      <td>63.641814</td>\n",
       "      <td>81.148727</td>\n",
       "      <td>35.313205</td>\n",
       "      <td>23.474359</td>\n",
       "      <td>45.306849</td>\n",
       "      <td>0.34624</td>\n",
       "    </tr>\n",
       "    <tr>\n",
       "      <th>min</th>\n",
       "      <td>1.000000</td>\n",
       "      <td>3.950000</td>\n",
       "      <td>1.950000</td>\n",
       "      <td>0.296482</td>\n",
       "      <td>0.000000</td>\n",
       "      <td>0.000000</td>\n",
       "      <td>1.000000</td>\n",
       "      <td>1.290000</td>\n",
       "      <td>79.000000</td>\n",
       "      <td>26.000000</td>\n",
       "      <td>0.000000</td>\n",
       "      <td>164.000000</td>\n",
       "      <td>155.000000</td>\n",
       "      <td>155.000000</td>\n",
       "      <td>0.00000</td>\n",
       "    </tr>\n",
       "    <tr>\n",
       "      <th>25%</th>\n",
       "      <td>10.000000</td>\n",
       "      <td>25.950000</td>\n",
       "      <td>11.950000</td>\n",
       "      <td>0.354839</td>\n",
       "      <td>0.000000</td>\n",
       "      <td>0.000000</td>\n",
       "      <td>1017.000000</td>\n",
       "      <td>2.290000</td>\n",
       "      <td>138.000000</td>\n",
       "      <td>104.000000</td>\n",
       "      <td>57.000000</td>\n",
       "      <td>164.000000</td>\n",
       "      <td>155.000000</td>\n",
       "      <td>155.000000</td>\n",
       "      <td>0.00000</td>\n",
       "    </tr>\n",
       "    <tr>\n",
       "      <th>50%</th>\n",
       "      <td>26.000000</td>\n",
       "      <td>40.950000</td>\n",
       "      <td>20.950000</td>\n",
       "      <td>0.525044</td>\n",
       "      <td>0.000000</td>\n",
       "      <td>0.000000</td>\n",
       "      <td>2091.000000</td>\n",
       "      <td>6.950000</td>\n",
       "      <td>160.000000</td>\n",
       "      <td>144.000000</td>\n",
       "      <td>143.000000</td>\n",
       "      <td>205.000000</td>\n",
       "      <td>187.000000</td>\n",
       "      <td>238.000000</td>\n",
       "      <td>0.00000</td>\n",
       "    </tr>\n",
       "    <tr>\n",
       "      <th>75%</th>\n",
       "      <td>64.000000</td>\n",
       "      <td>79.950000</td>\n",
       "      <td>37.950000</td>\n",
       "      <td>0.699248</td>\n",
       "      <td>0.000000</td>\n",
       "      <td>0.000000</td>\n",
       "      <td>4570.250000</td>\n",
       "      <td>9.600000</td>\n",
       "      <td>205.000000</td>\n",
       "      <td>181.000000</td>\n",
       "      <td>205.000000</td>\n",
       "      <td>255.000000</td>\n",
       "      <td>211.000000</td>\n",
       "      <td>255.000000</td>\n",
       "      <td>0.00000</td>\n",
       "    </tr>\n",
       "    <tr>\n",
       "      <th>max</th>\n",
       "      <td>898.000000</td>\n",
       "      <td>197.950000</td>\n",
       "      <td>195.950000</td>\n",
       "      <td>1.000000</td>\n",
       "      <td>1.000000</td>\n",
       "      <td>1.000000</td>\n",
       "      <td>5999.000000</td>\n",
       "      <td>13.290000</td>\n",
       "      <td>205.000000</td>\n",
       "      <td>238.000000</td>\n",
       "      <td>250.000000</td>\n",
       "      <td>255.000000</td>\n",
       "      <td>211.000000</td>\n",
       "      <td>255.000000</td>\n",
       "      <td>1.00000</td>\n",
       "    </tr>\n",
       "  </tbody>\n",
       "</table>\n",
       "</div>"
      ],
      "text/plain": [
       "               sales  regular_price  current_price          ratio  \\\n",
       "count  100000.000000  100000.000000  100000.000000  100000.000000   \n",
       "mean       56.781800      52.391200      28.290800       0.545646   \n",
       "std        87.934743      35.272128      22.578343       0.194363   \n",
       "min         1.000000       3.950000       1.950000       0.296482   \n",
       "25%        10.000000      25.950000      11.950000       0.354839   \n",
       "50%        26.000000      40.950000      20.950000       0.525044   \n",
       "75%        64.000000      79.950000      37.950000       0.699248   \n",
       "max       898.000000     197.950000     195.950000       1.000000   \n",
       "\n",
       "              promo1         promo2    customer_id           cost  \\\n",
       "count  100000.000000  100000.000000  100000.000000  100000.000000   \n",
       "mean        0.061900       0.004900    2721.726500       6.517000   \n",
       "std         0.240975       0.069829    1908.085499       3.914728   \n",
       "min         0.000000       0.000000       1.000000       1.290000   \n",
       "25%         0.000000       0.000000    1017.000000       2.290000   \n",
       "50%         0.000000       0.000000    2091.000000       6.950000   \n",
       "75%         0.000000       0.000000    4570.250000       9.600000   \n",
       "max         1.000000       1.000000    5999.000000      13.290000   \n",
       "\n",
       "       rgb_r_main_col  rgb_g_main_col  rgb_b_main_col  rgb_r_sec_col  \\\n",
       "count   100000.000000   100000.000000   100000.000000  100000.000000   \n",
       "mean       161.400000      139.600000      133.500000     207.700000   \n",
       "std         39.790147       63.641814       81.148727      35.313205   \n",
       "min         79.000000       26.000000        0.000000     164.000000   \n",
       "25%        138.000000      104.000000       57.000000     164.000000   \n",
       "50%        160.000000      144.000000      143.000000     205.000000   \n",
       "75%        205.000000      181.000000      205.000000     255.000000   \n",
       "max        205.000000      238.000000      250.000000     255.000000   \n",
       "\n",
       "       rgb_g_sec_col  rgb_b_sec_col         label  \n",
       "count  100000.000000  100000.000000  100000.00000  \n",
       "mean      181.400000     209.900000       0.13928  \n",
       "std        23.474359      45.306849       0.34624  \n",
       "min       155.000000     155.000000       0.00000  \n",
       "25%       155.000000     155.000000       0.00000  \n",
       "50%       187.000000     238.000000       0.00000  \n",
       "75%       211.000000     255.000000       0.00000  \n",
       "max       211.000000     255.000000       1.00000  "
      ]
     },
     "execution_count": 4,
     "metadata": {},
     "output_type": "execute_result"
    }
   ],
   "source": [
    "df.describe()"
   ]
  },
  {
   "cell_type": "code",
   "execution_count": 5,
   "metadata": {
    "pycharm": {
     "name": "#%%\n"
    }
   },
   "outputs": [
    {
     "name": "stdout",
     "output_type": "stream",
     "text": [
      "<class 'pandas.core.frame.DataFrame'>\n",
      "RangeIndex: 100000 entries, 0 to 99999\n",
      "Data columns (total 24 columns):\n",
      "country           100000 non-null object\n",
      "article           100000 non-null object\n",
      "sales             100000 non-null int64\n",
      "regular_price     100000 non-null float64\n",
      "current_price     100000 non-null float64\n",
      "ratio             100000 non-null float64\n",
      "retailweek        100000 non-null object\n",
      "promo1            100000 non-null int64\n",
      "promo2            100000 non-null int64\n",
      "customer_id       100000 non-null float64\n",
      "article.1         100000 non-null object\n",
      "productgroup      100000 non-null object\n",
      "category          100000 non-null object\n",
      "cost              100000 non-null float64\n",
      "style             100000 non-null object\n",
      "sizes             100000 non-null object\n",
      "gender            100000 non-null object\n",
      "rgb_r_main_col    100000 non-null int64\n",
      "rgb_g_main_col    100000 non-null int64\n",
      "rgb_b_main_col    100000 non-null int64\n",
      "rgb_r_sec_col     100000 non-null int64\n",
      "rgb_g_sec_col     100000 non-null int64\n",
      "rgb_b_sec_col     100000 non-null int64\n",
      "label             100000 non-null int64\n",
      "dtypes: float64(5), int64(10), object(9)\n",
      "memory usage: 18.3+ MB\n"
     ]
    }
   ],
   "source": [
    "df.info()"
   ]
  },
  {
   "cell_type": "code",
   "execution_count": 60,
   "metadata": {
    "pycharm": {
     "name": "#%%\n"
    }
   },
   "outputs": [
    {
     "data": {
      "text/plain": [
       "women     70000\n",
       "unisex    10000\n",
       "kids      10000\n",
       "men       10000\n",
       "Name: gender, dtype: int64"
      ]
     },
     "execution_count": 60,
     "metadata": {},
     "output_type": "execute_result"
    }
   ],
   "source": [
    "df['gender'].value_counts()"
   ]
  },
  {
   "cell_type": "code",
   "execution_count": 6,
   "metadata": {
    "pycharm": {
     "name": "#%%\n"
    }
   },
   "outputs": [
    {
     "data": {
      "text/plain": [
       "<matplotlib.axes._subplots.AxesSubplot at 0x1bfeca6c8c8>"
      ]
     },
     "execution_count": 6,
     "metadata": {},
     "output_type": "execute_result"
    },
    {
     "data": {
      "image/png": "[encoded data removed]",
      "text/plain": [
       "<Figure size 432x288 with 1 Axes>"
      ]
     },
     "metadata": {
      "needs_background": "light"
     },
     "output_type": "display_data"
    }
   ],
   "source": [
    "df['gender'].value_counts().plot(kind='bar')"
   ]
  },
  {
   "cell_type": "code",
   "execution_count": 64,
   "metadata": {
    "pycharm": {
     "name": "#%%\n"
    }
   },
   "outputs": [
    {
     "data": {
      "text/plain": [
       "Germany    49400\n",
       "Austria    35140\n",
       "France     15460\n",
       "Name: country, dtype: int64"
      ]
     },
     "execution_count": 64,
     "metadata": {},
     "output_type": "execute_result"
    }
   ],
   "source": [
    "df['country'].value_counts()"
   ]
  },
  {
   "cell_type": "code",
   "execution_count": 7,
   "metadata": {
    "pycharm": {
     "name": "#%%\n"
    }
   },
   "outputs": [
    {
     "data": {
      "text/plain": [
       "<matplotlib.axes._subplots.AxesSubplot at 0x1bfecde5dc8>"
      ]
     },
     "execution_count": 7,
     "metadata": {},
     "output_type": "execute_result"
    },
    {
     "data": {
      "image/png": "[encoded data removed]",
      "text/plain": [
       "<Figure size 432x288 with 1 Axes>"
      ]
     },
     "metadata": {
      "needs_background": "light"
     },
     "output_type": "display_data"
    }
   ],
   "source": [
    "df['country'].value_counts().plot(kind='bar')"
   ]
  },
  {
   "cell_type": "code",
   "execution_count": 63,
   "metadata": {
    "pycharm": {
     "name": "#%%\n"
    }
   },
   "outputs": [
    {
     "data": {
      "text/plain": [
       "TRAINING            30000\n",
       "RUNNING             20000\n",
       "FOOTBALL GENERIC    20000\n",
       "INDOOR              10000\n",
       "RELAX CASUAL        10000\n",
       "GOLF                10000\n",
       "Name: category, dtype: int64"
      ]
     },
     "execution_count": 63,
     "metadata": {},
     "output_type": "execute_result"
    }
   ],
   "source": [
    "df['category'].value_counts()"
   ]
  },
  {
   "cell_type": "code",
   "execution_count": 8,
   "metadata": {
    "pycharm": {
     "name": "#%%\n"
    }
   },
   "outputs": [
    {
     "data": {
      "text/plain": [
       "<matplotlib.axes._subplots.AxesSubplot at 0x1bfece4be48>"
      ]
     },
     "execution_count": 8,
     "metadata": {},
     "output_type": "execute_result"
    },
    {
     "data": {
      "image/png": "[encoded data removed]",
      "text/plain": [
       "<Figure size 432x288 with 1 Axes>"
      ]
     },
     "metadata": {
      "needs_background": "light"
     },
     "output_type": "display_data"
    }
   ],
   "source": [
    "df['category'].value_counts().plot(kind='bar')"
   ]
  },
  {
   "cell_type": "code",
   "execution_count": 61,
   "metadata": {
    "pycharm": {
     "name": "#%%\n"
    }
   },
   "outputs": [
    {
     "data": {
      "text/plain": [
       "SHOES                   60000\n",
       "HARDWARE ACCESSORIES    20000\n",
       "SWEATSHIRTS             10000\n",
       "SHORTS                  10000\n",
       "Name: productgroup, dtype: int64"
      ]
     },
     "execution_count": 61,
     "metadata": {},
     "output_type": "execute_result"
    }
   ],
   "source": [
    "df['productgroup'].value_counts()"
   ]
  },
  {
   "cell_type": "code",
   "execution_count": 9,
   "metadata": {
    "pycharm": {
     "name": "#%%\n"
    }
   },
   "outputs": [
    {
     "data": {
      "text/plain": [
       "<matplotlib.axes._subplots.AxesSubplot at 0x1bfecec9788>"
      ]
     },
     "execution_count": 9,
     "metadata": {},
     "output_type": "execute_result"
    },
    {
     "data": {
      "image/png": "[encoded data removed]",
      "text/plain": [
       "<Figure size 432x288 with 1 Axes>"
      ]
     },
     "metadata": {
      "needs_background": "light"
     },
     "output_type": "display_data"
    }
   ],
   "source": [
    "df['productgroup'].value_counts().plot(kind='bar')"
   ]
  },
  {
   "cell_type": "code",
   "execution_count": 10,
   "metadata": {
    "pycharm": {
     "name": "#%%\n"
    }
   },
   "outputs": [
    {
     "data": {
      "text/plain": [
       "<matplotlib.axes._subplots.AxesSubplot at 0x1bfecf2d308>"
      ]
     },
     "execution_count": 10,
     "metadata": {},
     "output_type": "execute_result"
    },
    {
     "data": {
      "image/png": "[encoded data removed]",
      "text/plain": [
       "<Figure size 432x288 with 1 Axes>"
      ]
     },
     "metadata": {
      "needs_background": "light"
     },
     "output_type": "display_data"
    }
   ],
   "source": [
    "df['label'].value_counts().plot(kind='bar')"
   ]
  },
  {
   "cell_type": "code",
   "execution_count": 12,
   "metadata": {
    "pycharm": {
     "name": "#%%\n"
    }
   },
   "outputs": [
    {
     "data": {
      "text/plain": [
       "<matplotlib.axes._subplots.AxesSubplot at 0x1bfed2d3b08>"
      ]
     },
     "execution_count": 12,
     "metadata": {},
     "output_type": "execute_result"
    },
    {
     "data": {
      "image/png": "[encoded data removed]",
      "text/plain": [
       "<Figure size 432x288 with 1 Axes>"
      ]
     },
     "metadata": {
      "needs_background": "light"
     },
     "output_type": "display_data"
    }
   ],
   "source": [
    "df['style'].value_counts().plot(kind='bar')"
   ]
  },
  {
   "cell_type": "code",
   "execution_count": 13,
   "metadata": {
    "pycharm": {
     "name": "#%%\n"
    }
   },
   "outputs": [
    {
     "data": {
      "text/plain": [
       "<matplotlib.axes._subplots.AxesSubplot at 0x1bfed2e8d88>"
      ]
     },
     "execution_count": 13,
     "metadata": {},
     "output_type": "execute_result"
    },
    {
     "data": {
      "image/png": "[encoded data removed]",
      "text/plain": [
       "<Figure size 432x288 with 1 Axes>"
      ]
     },
     "metadata": {
      "needs_background": "light"
     },
     "output_type": "display_data"
    }
   ],
   "source": [
    "df['sizes'].value_counts().plot(kind='bar')"
   ]
  },
  {
   "cell_type": "code",
   "execution_count": 14,
   "metadata": {
    "pycharm": {
     "name": "#%%\n"
    }
   },
   "outputs": [
    {
     "data": {
      "text/plain": [
       "4549"
      ]
     },
     "execution_count": 14,
     "metadata": {},
     "output_type": "execute_result"
    }
   ],
   "source": [
    "df['customer_id'].nunique()"
   ]
  },
  {
   "cell_type": "markdown",
   "metadata": {
    "pycharm": {
     "name": "#%% md\n"
    }
   },
   "source": [
    "## 3. <a name=\"3\">Data Analysis</a>\n",
    "(<a href=\"#0\">Go to top</a>)\n",
    "\n",
    "We build a model using selected features (except __ID, Name, Links__). That is, we build a regressor including __numerical, and categorical__  features. "
   ]
  },
  {
   "cell_type": "markdown",
   "metadata": {
    "pycharm": {
     "name": "#%% md\n"
    }
   },
   "source": [
    "#### Detecting outliers"
   ]
  },
  {
   "cell_type": "code",
   "execution_count": 15,
   "metadata": {
    "pycharm": {
     "name": "#%%\n"
    }
   },
   "outputs": [
    {
     "data": {
      "text/plain": [
       "Text(0.5, 1.0, 'sales')"
      ]
     },
     "execution_count": 15,
     "metadata": {},
     "output_type": "execute_result"
    },
    {
     "data": {
      "image/png": "[encoded data removed]",
      "text/plain": [
       "<Figure size 1080x2160 with 3 Axes>"
      ]
     },
     "metadata": {
      "needs_background": "light"
     },
     "output_type": "display_data"
    }
   ],
   "source": [
    "plt.figure(figsize = (15, 30))\n",
    "plt.style.use('seaborn-white')\n",
    "ax=plt.subplot(521)\n",
    "plt.boxplot(df['ratio'])\n",
    "ax.set_title('ratio')\n",
    "ax=plt.subplot(522)\n",
    "plt.boxplot(df['cost'])\n",
    "ax.set_title('cost')\n",
    "ax=plt.subplot(523)\n",
    "plt.boxplot(df['sales'])\n",
    "ax.set_title('sales')"
   ]
  },
  {
   "cell_type": "markdown",
   "metadata": {
    "pycharm": {
     "name": "#%% md\n"
    }
   },
   "source": [
    "#### Visualization"
   ]
  },
  {
   "cell_type": "code",
   "execution_count": 16,
   "metadata": {
    "pycharm": {
     "name": "#%%\n"
    }
   },
   "outputs": [
    {
     "data": {
      "image/png": "[encoded data removed]",
      "text/plain": [
       "<Figure size 504x504 with 1 Axes>"
      ]
     },
     "metadata": {},
     "output_type": "display_data"
    }
   ],
   "source": [
    "colors = [\"#FA5858\", \"#64FE2E\"]\n",
    "labels =\"Not Sold\", \"Sold\"\n",
    "plt.suptitle('Campaign result', fontsize=20)\n",
    "df[\"label\"].value_counts().plot.pie(explode=[0,0.25], autopct='%1.2f%%', shadow=True, colors=colors, \n",
    "                                            labels=labels, fontsize=12, startangle=90 , figsize=(7,7))\n",
    "palette = [\"#64FE2E\", \"#FA5858\"]\n",
    "plt.show()"
   ]
  },
  {
   "cell_type": "code",
   "execution_count": 17,
   "metadata": {
    "pycharm": {
     "name": "#%%\n"
    }
   },
   "outputs": [
    {
     "data": {
      "image/png": "[encoded data removed]",
      "text/plain": [
       "<Figure size 432x288 with 1 Axes>"
      ]
     },
     "metadata": {},
     "output_type": "display_data"
    }
   ],
   "source": [
    "df_2 = df.groupby('retailweek').sum()\n",
    "df_2.reset_index(inplace=True)\n",
    "sns.barplot(x='retailweek', y='sales', data=df_2);"
   ]
  },
  {
   "cell_type": "code",
   "execution_count": 65,
   "metadata": {
    "pycharm": {
     "name": "#%%\n"
    }
   },
   "outputs": [
    {
     "data": {
      "image/png": "[encoded data removed]",
      "text/plain": [
       "<Figure size 432x288 with 1 Axes>"
      ]
     },
     "metadata": {
      "needs_background": "light"
     },
     "output_type": "display_data"
    }
   ],
   "source": [
    "df_3 = df.groupby('gender').sum()\n",
    "df_3.reset_index(inplace=True)\n",
    "sns.barplot(x='gender', y='sales', data=df_3);"
   ]
  },
  {
   "cell_type": "code",
   "execution_count": 67,
   "metadata": {
    "pycharm": {
     "name": "#%%\n"
    }
   },
   "outputs": [
    {
     "data": {
      "text/plain": [
       "<matplotlib.axes._subplots.AxesSubplot at 0x1bff658cf08>"
      ]
     },
     "execution_count": 67,
     "metadata": {},
     "output_type": "execute_result"
    },
    {
     "data": {
      "image/png": "[encoded data removed]",
      "text/plain": [
       "<Figure size 432x288 with 1 Axes>"
      ]
     },
     "metadata": {
      "needs_background": "light"
     },
     "output_type": "display_data"
    }
   ],
   "source": [
    "df_3 = df.groupby('country').sum()\n",
    "df_3.reset_index(inplace=True)\n",
    "sns.barplot(x='country', y='sales', data=df_3)"
   ]
  },
  {
   "cell_type": "code",
   "execution_count": 68,
   "metadata": {
    "pycharm": {
     "name": "#%%\n"
    }
   },
   "outputs": [],
   "source": [
    "def plot_bar(column):\n",
    "    temp_1 = pd.DataFrame()\n",
    "    # count categorical values\n",
    "    temp_1['Sold'] = df[df['label'] == 1][column].value_counts()\n",
    "    temp_1['Not Sold'] = df[df['label'] == 0][column].value_counts()\n",
    "    temp_1.plot(kind='bar')\n",
    "    plt.xlabel(f'{column}')\n",
    "    plt.ylabel('Number of customers')\n",
    "    plt.title('Distribution of {} and campaign result'.format(column))\n",
    "    plt.show();"
   ]
  },
  {
   "cell_type": "code",
   "execution_count": 69,
   "metadata": {
    "pycharm": {
     "name": "#%%\n"
    }
   },
   "outputs": [
    {
     "data": {
      "image/png": "[encoded data removed]",
      "text/plain": [
       "<Figure size 432x288 with 1 Axes>"
      ]
     },
     "metadata": {
      "needs_background": "light"
     },
     "output_type": "display_data"
    },
    {
     "data": {
      "image/png": "[encoded data removed]",
      "text/plain": [
       "<Figure size 432x288 with 1 Axes>"
      ]
     },
     "metadata": {
      "needs_background": "light"
     },
     "output_type": "display_data"
    },
    {
     "data": {
      "image/png": "[encoded data removed]",
      "text/plain": [
       "<Figure size 432x288 with 1 Axes>"
      ]
     },
     "metadata": {
      "needs_background": "light"
     },
     "output_type": "display_data"
    },
    {
     "data": {
      "image/png": "[encoded data removed]",
      "text/plain": [
       "<Figure size 432x288 with 1 Axes>"
      ]
     },
     "metadata": {
      "needs_background": "light"
     },
     "output_type": "display_data"
    },
    {
     "data": {
      "image/png": "[encoded data removed]",
      "text/plain": [
       "<Figure size 432x288 with 1 Axes>"
      ]
     },
     "metadata": {
      "needs_background": "light"
     },
     "output_type": "display_data"
    },
    {
     "data": {
      "image/png": "[encoded data removed]",
      "text/plain": [
       "<Figure size 432x288 with 1 Axes>"
      ]
     },
     "metadata": {
      "needs_background": "light"
     },
     "output_type": "display_data"
    },
    {
     "data": {
      "text/plain": [
       "(None, None, None, None, None, None)"
      ]
     },
     "execution_count": 69,
     "metadata": {},
     "output_type": "execute_result"
    }
   ],
   "source": [
    "plot_bar('gender'), plot_bar('sizes'), plot_bar('style'), plot_bar('productgroup'), plot_bar('category'),plot_bar('country')"
   ]
  },
  {
   "cell_type": "code",
   "execution_count": 20,
   "metadata": {
    "pycharm": {
     "name": "#%%\n"
    }
   },
   "outputs": [
    {
     "data": {
      "image/png": "[encoded data removed]",
      "text/plain": [
       "<Figure size 720x720 with 2 Axes>"
      ]
     },
     "metadata": {},
     "output_type": "display_data"
    }
   ],
   "source": [
    "f,ax=plt.subplots(figsize=(10,10))\n",
    "sns.heatmap(df.corr(),annot=True,linewidths=0.5,linecolor=\"black\",fmt=\".1f\",ax=ax)\n",
    "plt.show()"
   ]
  },
  {
   "cell_type": "markdown",
   "metadata": {
    "pycharm": {
     "name": "#%% md\n"
    }
   },
   "source": [
    "## 4. <a name=\"3\">Select features to build the model</a>\n",
    "(<a href=\"#0\">Go to top</a>)\n",
    "\n",
    "We build a model using selected features (except __ID, Name, Links__). That is, we build a regressor including __numerical, and categorical__  features. "
   ]
  },
  {
   "cell_type": "markdown",
   "metadata": {
    "pycharm": {
     "name": "#%% md\n"
    }
   },
   "source": [
    "##### converting the two promo columns to str to be categorical feature"
   ]
  },
  {
   "cell_type": "code",
   "execution_count": 22,
   "metadata": {
    "pycharm": {
     "name": "#%%\n"
    }
   },
   "outputs": [],
   "source": [
    "numeric_features = ['sales','ratio','cost']\n",
    "\n",
    "date_features = ['retailweek']\n",
    "\n",
    "text_categorical_features =  ['productgroup','category','style','sizes','gender','country']\n",
    "\n",
    "numeric_categorical_features =  ['promo1','promo2']\n",
    "\n",
    "non_useful_features = ['article', 'customer_id', 'article', 'rgb_r_main_col', 'rgb_g_main_col', \n",
    "                       'rgb_b_main_col Logo','rgb_r_sec_col','rgb_g_sec_col','rgb_b_sec_col']\n",
    "\n",
    "label_feature = ['label']"
   ]
  },
  {
   "cell_type": "code",
   "execution_count": 21,
   "metadata": {
    "pycharm": {
     "name": "#%%\n"
    }
   },
   "outputs": [],
   "source": [
    "df['promo1'] = df['promo1'].astype('str')\n",
    "df['promo2'] = df['promo2'].astype('str')"
   ]
  },
  {
   "cell_type": "code",
   "execution_count": 23,
   "metadata": {
    "pycharm": {
     "name": "#%%\n"
    }
   },
   "outputs": [],
   "source": [
    "features = numeric_features + text_categorical_features + numeric_categorical_features"
   ]
  },
  {
   "cell_type": "code",
   "execution_count": 24,
   "metadata": {
    "pycharm": {
     "name": "#%%\n"
    }
   },
   "outputs": [
    {
     "data": {
      "text/html": [
       "<div>\n",
       "<style scoped>\n",
       "    .dataframe tbody tr th:only-of-type {\n",
       "        vertical-align: middle;\n",
       "    }\n",
       "\n",
       "    .dataframe tbody tr th {\n",
       "        vertical-align: top;\n",
       "    }\n",
       "\n",
       "    .dataframe thead th {\n",
       "        text-align: right;\n",
       "    }\n",
       "</style>\n",
       "<table border=\"1\" class=\"dataframe\">\n",
       "  <thead>\n",
       "    <tr style=\"text-align: right;\">\n",
       "      <th></th>\n",
       "      <th>sales</th>\n",
       "      <th>ratio</th>\n",
       "      <th>cost</th>\n",
       "      <th>productgroup</th>\n",
       "      <th>category</th>\n",
       "      <th>style</th>\n",
       "      <th>sizes</th>\n",
       "      <th>gender</th>\n",
       "      <th>country</th>\n",
       "      <th>promo1</th>\n",
       "      <th>promo2</th>\n",
       "      <th>label</th>\n",
       "    </tr>\n",
       "  </thead>\n",
       "  <tbody>\n",
       "    <tr>\n",
       "      <td>0</td>\n",
       "      <td>28</td>\n",
       "      <td>0.663866</td>\n",
       "      <td>13.29</td>\n",
       "      <td>SHOES</td>\n",
       "      <td>TRAINING</td>\n",
       "      <td>slim</td>\n",
       "      <td>xxs,xs,s,m,l,xl,xxl</td>\n",
       "      <td>women</td>\n",
       "      <td>Germany</td>\n",
       "      <td>0</td>\n",
       "      <td>0</td>\n",
       "      <td>0</td>\n",
       "    </tr>\n",
       "    <tr>\n",
       "      <td>1</td>\n",
       "      <td>28</td>\n",
       "      <td>0.663866</td>\n",
       "      <td>2.29</td>\n",
       "      <td>SHORTS</td>\n",
       "      <td>TRAINING</td>\n",
       "      <td>regular</td>\n",
       "      <td>xxs,xs,s,m,l,xl,xxl</td>\n",
       "      <td>women</td>\n",
       "      <td>Germany</td>\n",
       "      <td>0</td>\n",
       "      <td>0</td>\n",
       "      <td>0</td>\n",
       "    </tr>\n",
       "    <tr>\n",
       "      <td>2</td>\n",
       "      <td>28</td>\n",
       "      <td>0.663866</td>\n",
       "      <td>1.70</td>\n",
       "      <td>HARDWARE ACCESSORIES</td>\n",
       "      <td>GOLF</td>\n",
       "      <td>regular</td>\n",
       "      <td>xxs,xs,s,m,l,xl,xxl</td>\n",
       "      <td>women</td>\n",
       "      <td>Germany</td>\n",
       "      <td>0</td>\n",
       "      <td>0</td>\n",
       "      <td>0</td>\n",
       "    </tr>\n",
       "    <tr>\n",
       "      <td>3</td>\n",
       "      <td>28</td>\n",
       "      <td>0.663866</td>\n",
       "      <td>9.00</td>\n",
       "      <td>SHOES</td>\n",
       "      <td>RUNNING</td>\n",
       "      <td>regular</td>\n",
       "      <td>xxs,xs,s,m,l,xl,xxl</td>\n",
       "      <td>kids</td>\n",
       "      <td>Germany</td>\n",
       "      <td>0</td>\n",
       "      <td>0</td>\n",
       "      <td>0</td>\n",
       "    </tr>\n",
       "    <tr>\n",
       "      <td>4</td>\n",
       "      <td>28</td>\n",
       "      <td>0.663866</td>\n",
       "      <td>9.60</td>\n",
       "      <td>SHOES</td>\n",
       "      <td>RELAX CASUAL</td>\n",
       "      <td>regular</td>\n",
       "      <td>xxs,xs,s,m,l,xl,xxl</td>\n",
       "      <td>women</td>\n",
       "      <td>Germany</td>\n",
       "      <td>0</td>\n",
       "      <td>0</td>\n",
       "      <td>0</td>\n",
       "    </tr>\n",
       "  </tbody>\n",
       "</table>\n",
       "</div>"
      ],
      "text/plain": [
       "   sales     ratio   cost          productgroup      category    style  \\\n",
       "0     28  0.663866  13.29                 SHOES      TRAINING     slim   \n",
       "1     28  0.663866   2.29                SHORTS      TRAINING  regular   \n",
       "2     28  0.663866   1.70  HARDWARE ACCESSORIES          GOLF  regular   \n",
       "3     28  0.663866   9.00                 SHOES       RUNNING  regular   \n",
       "4     28  0.663866   9.60                 SHOES  RELAX CASUAL  regular   \n",
       "\n",
       "                 sizes gender  country promo1 promo2  label  \n",
       "0  xxs,xs,s,m,l,xl,xxl  women  Germany      0      0      0  \n",
       "1  xxs,xs,s,m,l,xl,xxl  women  Germany      0      0      0  \n",
       "2  xxs,xs,s,m,l,xl,xxl  women  Germany      0      0      0  \n",
       "3  xxs,xs,s,m,l,xl,xxl   kids  Germany      0      0      0  \n",
       "4  xxs,xs,s,m,l,xl,xxl  women  Germany      0      0      0  "
      ]
     },
     "execution_count": 24,
     "metadata": {},
     "output_type": "execute_result"
    }
   ],
   "source": [
    "df_model=df[features+label_feature]\n",
    "df_model.head()"
   ]
  },
  {
   "cell_type": "code",
   "execution_count": 25,
   "metadata": {
    "pycharm": {
     "name": "#%%\n"
    }
   },
   "outputs": [
    {
     "data": {
      "text/html": [
       "<div>\n",
       "<style scoped>\n",
       "    .dataframe tbody tr th:only-of-type {\n",
       "        vertical-align: middle;\n",
       "    }\n",
       "\n",
       "    .dataframe tbody tr th {\n",
       "        vertical-align: top;\n",
       "    }\n",
       "\n",
       "    .dataframe thead th {\n",
       "        text-align: right;\n",
       "    }\n",
       "</style>\n",
       "<table border=\"1\" class=\"dataframe\">\n",
       "  <thead>\n",
       "    <tr style=\"text-align: right;\">\n",
       "      <th></th>\n",
       "      <th>sales</th>\n",
       "      <th>ratio</th>\n",
       "      <th>cost</th>\n",
       "      <th>label</th>\n",
       "      <th>productgroup_HARDWARE ACCESSORIES</th>\n",
       "      <th>productgroup_SHOES</th>\n",
       "      <th>productgroup_SHORTS</th>\n",
       "      <th>productgroup_SWEATSHIRTS</th>\n",
       "      <th>category_FOOTBALL GENERIC</th>\n",
       "      <th>category_GOLF</th>\n",
       "      <th>category_INDOOR</th>\n",
       "      <th>category_RELAX CASUAL</th>\n",
       "      <th>category_RUNNING</th>\n",
       "      <th>category_TRAINING</th>\n",
       "      <th>style_regular</th>\n",
       "      <th>style_slim</th>\n",
       "      <th>style_wide</th>\n",
       "      <th>sizes_xs,s,m,l,xl</th>\n",
       "      <th>sizes_xxs,xs,s,m,l,xl,xxl</th>\n",
       "      <th>gender_kids</th>\n",
       "      <th>gender_men</th>\n",
       "      <th>gender_unisex</th>\n",
       "      <th>gender_women</th>\n",
       "      <th>country_Austria</th>\n",
       "      <th>country_France</th>\n",
       "      <th>country_Germany</th>\n",
       "      <th>promo1_0</th>\n",
       "      <th>promo1_1</th>\n",
       "      <th>promo2_0</th>\n",
       "      <th>promo2_1</th>\n",
       "    </tr>\n",
       "  </thead>\n",
       "  <tbody>\n",
       "    <tr>\n",
       "      <td>0</td>\n",
       "      <td>28</td>\n",
       "      <td>0.663866</td>\n",
       "      <td>13.29</td>\n",
       "      <td>0</td>\n",
       "      <td>0</td>\n",
       "      <td>1</td>\n",
       "      <td>0</td>\n",
       "      <td>0</td>\n",
       "      <td>0</td>\n",
       "      <td>0</td>\n",
       "      <td>0</td>\n",
       "      <td>0</td>\n",
       "      <td>0</td>\n",
       "      <td>1</td>\n",
       "      <td>0</td>\n",
       "      <td>1</td>\n",
       "      <td>0</td>\n",
       "      <td>0</td>\n",
       "      <td>1</td>\n",
       "      <td>0</td>\n",
       "      <td>0</td>\n",
       "      <td>0</td>\n",
       "      <td>1</td>\n",
       "      <td>0</td>\n",
       "      <td>0</td>\n",
       "      <td>1</td>\n",
       "      <td>1</td>\n",
       "      <td>0</td>\n",
       "      <td>1</td>\n",
       "      <td>0</td>\n",
       "    </tr>\n",
       "    <tr>\n",
       "      <td>1</td>\n",
       "      <td>28</td>\n",
       "      <td>0.663866</td>\n",
       "      <td>2.29</td>\n",
       "      <td>0</td>\n",
       "      <td>0</td>\n",
       "      <td>0</td>\n",
       "      <td>1</td>\n",
       "      <td>0</td>\n",
       "      <td>0</td>\n",
       "      <td>0</td>\n",
       "      <td>0</td>\n",
       "      <td>0</td>\n",
       "      <td>0</td>\n",
       "      <td>1</td>\n",
       "      <td>1</td>\n",
       "      <td>0</td>\n",
       "      <td>0</td>\n",
       "      <td>0</td>\n",
       "      <td>1</td>\n",
       "      <td>0</td>\n",
       "      <td>0</td>\n",
       "      <td>0</td>\n",
       "      <td>1</td>\n",
       "      <td>0</td>\n",
       "      <td>0</td>\n",
       "      <td>1</td>\n",
       "      <td>1</td>\n",
       "      <td>0</td>\n",
       "      <td>1</td>\n",
       "      <td>0</td>\n",
       "    </tr>\n",
       "    <tr>\n",
       "      <td>2</td>\n",
       "      <td>28</td>\n",
       "      <td>0.663866</td>\n",
       "      <td>1.70</td>\n",
       "      <td>0</td>\n",
       "      <td>1</td>\n",
       "      <td>0</td>\n",
       "      <td>0</td>\n",
       "      <td>0</td>\n",
       "      <td>0</td>\n",
       "      <td>1</td>\n",
       "      <td>0</td>\n",
       "      <td>0</td>\n",
       "      <td>0</td>\n",
       "      <td>0</td>\n",
       "      <td>1</td>\n",
       "      <td>0</td>\n",
       "      <td>0</td>\n",
       "      <td>0</td>\n",
       "      <td>1</td>\n",
       "      <td>0</td>\n",
       "      <td>0</td>\n",
       "      <td>0</td>\n",
       "      <td>1</td>\n",
       "      <td>0</td>\n",
       "      <td>0</td>\n",
       "      <td>1</td>\n",
       "      <td>1</td>\n",
       "      <td>0</td>\n",
       "      <td>1</td>\n",
       "      <td>0</td>\n",
       "    </tr>\n",
       "    <tr>\n",
       "      <td>3</td>\n",
       "      <td>28</td>\n",
       "      <td>0.663866</td>\n",
       "      <td>9.00</td>\n",
       "      <td>0</td>\n",
       "      <td>0</td>\n",
       "      <td>1</td>\n",
       "      <td>0</td>\n",
       "      <td>0</td>\n",
       "      <td>0</td>\n",
       "      <td>0</td>\n",
       "      <td>0</td>\n",
       "      <td>0</td>\n",
       "      <td>1</td>\n",
       "      <td>0</td>\n",
       "      <td>1</td>\n",
       "      <td>0</td>\n",
       "      <td>0</td>\n",
       "      <td>0</td>\n",
       "      <td>1</td>\n",
       "      <td>1</td>\n",
       "      <td>0</td>\n",
       "      <td>0</td>\n",
       "      <td>0</td>\n",
       "      <td>0</td>\n",
       "      <td>0</td>\n",
       "      <td>1</td>\n",
       "      <td>1</td>\n",
       "      <td>0</td>\n",
       "      <td>1</td>\n",
       "      <td>0</td>\n",
       "    </tr>\n",
       "    <tr>\n",
       "      <td>4</td>\n",
       "      <td>28</td>\n",
       "      <td>0.663866</td>\n",
       "      <td>9.60</td>\n",
       "      <td>0</td>\n",
       "      <td>0</td>\n",
       "      <td>1</td>\n",
       "      <td>0</td>\n",
       "      <td>0</td>\n",
       "      <td>0</td>\n",
       "      <td>0</td>\n",
       "      <td>0</td>\n",
       "      <td>1</td>\n",
       "      <td>0</td>\n",
       "      <td>0</td>\n",
       "      <td>1</td>\n",
       "      <td>0</td>\n",
       "      <td>0</td>\n",
       "      <td>0</td>\n",
       "      <td>1</td>\n",
       "      <td>0</td>\n",
       "      <td>0</td>\n",
       "      <td>0</td>\n",
       "      <td>1</td>\n",
       "      <td>0</td>\n",
       "      <td>0</td>\n",
       "      <td>1</td>\n",
       "      <td>1</td>\n",
       "      <td>0</td>\n",
       "      <td>1</td>\n",
       "      <td>0</td>\n",
       "    </tr>\n",
       "  </tbody>\n",
       "</table>\n",
       "</div>"
      ],
      "text/plain": [
       "   sales     ratio   cost  label  productgroup_HARDWARE ACCESSORIES  \\\n",
       "0     28  0.663866  13.29      0                                  0   \n",
       "1     28  0.663866   2.29      0                                  0   \n",
       "2     28  0.663866   1.70      0                                  1   \n",
       "3     28  0.663866   9.00      0                                  0   \n",
       "4     28  0.663866   9.60      0                                  0   \n",
       "\n",
       "   productgroup_SHOES  productgroup_SHORTS  productgroup_SWEATSHIRTS  \\\n",
       "0                   1                    0                         0   \n",
       "1                   0                    1                         0   \n",
       "2                   0                    0                         0   \n",
       "3                   1                    0                         0   \n",
       "4                   1                    0                         0   \n",
       "\n",
       "   category_FOOTBALL GENERIC  category_GOLF  category_INDOOR  \\\n",
       "0                          0              0                0   \n",
       "1                          0              0                0   \n",
       "2                          0              1                0   \n",
       "3                          0              0                0   \n",
       "4                          0              0                0   \n",
       "\n",
       "   category_RELAX CASUAL  category_RUNNING  category_TRAINING  style_regular  \\\n",
       "0                      0                 0                  1              0   \n",
       "1                      0                 0                  1              1   \n",
       "2                      0                 0                  0              1   \n",
       "3                      0                 1                  0              1   \n",
       "4                      1                 0                  0              1   \n",
       "\n",
       "   style_slim  style_wide  sizes_xs,s,m,l,xl  sizes_xxs,xs,s,m,l,xl,xxl  \\\n",
       "0           1           0                  0                          1   \n",
       "1           0           0                  0                          1   \n",
       "2           0           0                  0                          1   \n",
       "3           0           0                  0                          1   \n",
       "4           0           0                  0                          1   \n",
       "\n",
       "   gender_kids  gender_men  gender_unisex  gender_women  country_Austria  \\\n",
       "0            0           0              0             1                0   \n",
       "1            0           0              0             1                0   \n",
       "2            0           0              0             1                0   \n",
       "3            1           0              0             0                0   \n",
       "4            0           0              0             1                0   \n",
       "\n",
       "   country_France  country_Germany  promo1_0  promo1_1  promo2_0  promo2_1  \n",
       "0               0                1         1         0         1         0  \n",
       "1               0                1         1         0         1         0  \n",
       "2               0                1         1         0         1         0  \n",
       "3               0                1         1         0         1         0  \n",
       "4               0                1         1         0         1         0  "
      ]
     },
     "execution_count": 25,
     "metadata": {},
     "output_type": "execute_result"
    }
   ],
   "source": [
    "df_model = pd.get_dummies(df_model)\n",
    "df_model.head()"
   ]
  },
  {
   "cell_type": "markdown",
   "metadata": {
    "pycharm": {
     "name": "#%% md\n"
    }
   },
   "source": [
    "## 5. <a name=\"4\">Training and test datasets</a>\n",
    "(<a href=\"#0\">Go to top</a>)\n",
    "\n",
    "We split our dataset into training (90%) and test (10%) subsets using sklearn's [__train_test_split()__](https://scikit-learn.org/stable/modules/generated/sklearn.model_selection.train_test_split.html) function."
   ]
  },
  {
   "cell_type": "code",
   "execution_count": 35,
   "metadata": {
    "pycharm": {
     "name": "#%%\n"
    }
   },
   "outputs": [],
   "source": [
    "# Machine Learning Phase\n",
    "import sklearn \n",
    "from sklearn.ensemble import ExtraTreesClassifier\n",
    "from sklearn.pipeline import make_pipeline\n",
    "from sklearn.model_selection import GridSearchCV\n",
    "from sklearn.linear_model import LogisticRegression\n",
    "from sklearn.tree import DecisionTreeClassifier\n",
    "from sklearn.ensemble import RandomForestClassifier, BaggingClassifier\n",
    "from sklearn.naive_bayes import BernoulliNB \n",
    "from sklearn.linear_model import SGDClassifier\n",
    "from sklearn.neighbors import KNeighborsClassifier\n",
    "from sklearn.metrics import roc_curve, roc_auc_score\n",
    "from sklearn.svm import SVC\n",
    "from sklearn.pipeline import Pipeline\n",
    "from sklearn.model_selection import train_test_split, GridSearchCV, StratifiedKFold\n",
    "\n",
    "#Metrics Phase\n",
    "from sklearn import metrics\n",
    "from sklearn.metrics import classification_report\n",
    "from sklearn.model_selection import cross_val_score\n"
   ]
  },
  {
   "cell_type": "code",
   "execution_count": 36,
   "metadata": {
    "pycharm": {
     "name": "#%%\n"
    }
   },
   "outputs": [
    {
     "name": "stdout",
     "output_type": "stream",
     "text": [
      "Input Training: (80000, 29)\n",
      "Input Test: (20000, 29)\n",
      "Output Training: (80000,)\n",
      "Output Test: (20000,)\n"
     ]
    }
   ],
   "source": [
    "X=df_model.drop(['label'],axis=1)\n",
    "y=df_model.label\n",
    "X_train, X_test, y_train, y_test = train_test_split(X, y,train_size=0.8,random_state=1)\n",
    "print(\"Input Training:\",X_train.shape)\n",
    "print(\"Input Test:\",X_test.shape)\n",
    "print(\"Output Training:\",y_train.shape)\n",
    "print(\"Output Test:\",y_test.shape)"
   ]
  },
  {
   "cell_type": "code",
   "execution_count": 37,
   "metadata": {
    "pycharm": {
     "name": "#%%\n"
    }
   },
   "outputs": [],
   "source": [
    "from sklearn.model_selection import train_test_split\n",
    "\n",
    "train_data, test_data = train_test_split(df_model, test_size=0.2, shuffle=True, random_state=23)\n",
    "val_data, test_data = train_test_split(test_data, test_size=0.2, shuffle=True, random_state=23)"
   ]
  },
  {
   "cell_type": "markdown",
   "metadata": {
    "pycharm": {
     "name": "#%% md\n"
    }
   },
   "source": [
    "## 6. <a name=\"6\">Train and tune a classifier</a>\n",
    "(<a href=\"#0\">Go to top</a>)\n",
    "\n",
    "Let's first train and test the above composite pipeline on the train and the test sets.  "
   ]
  },
  {
   "cell_type": "markdown",
   "metadata": {
    "pycharm": {
     "name": "#%% md\n"
    }
   },
   "source": [
    "### Modelling our Data\n",
    "Let's enter into the crucial phase of building THE machine learning model. Before checking \"what could be the best algorithm for prediction\" we have to decide on the \"why\". It is highly important.\n",
    "\n",
    "### Why?\n",
    "Our main aim is to predict whether there is a deposit made made owing to those values from the features. The output is either going to be 0 or 1. So we can decide that we can use classification models for our problem\n",
    "\n",
    "### What ?\n",
    "To decide on what can be the best possible classification models let's not waste time running models. Instead we do quality code by creating cross validation and check all the model accuracy at once. After that we will select one model based on it's accuracy.\n",
    "\n",
    "### Model Selection\n",
    "Let's dig onto select the best classifier model"
   ]
  },
  {
   "cell_type": "markdown",
   "metadata": {
    "pycharm": {
     "name": "#%% md\n"
    }
   },
   "source": [
    "### Build pipline of classifiers"
   ]
  },
  {
   "cell_type": "code",
   "execution_count": 39,
   "metadata": {
    "pycharm": {
     "name": "#%%\n"
    }
   },
   "outputs": [],
   "source": [
    "random_state = 11\n",
    "# set all CPU\n",
    "n_jobs = -1\n",
    "# LogisticRegression\n",
    "pipe_lr = Pipeline([('lr', LogisticRegression(random_state=random_state, n_jobs=n_jobs, max_iter=500))])\n",
    "# RandomForestClassifier\n",
    "pipe_rf = Pipeline([('rf', RandomForestClassifier(random_state=random_state, oob_score=True, n_jobs=n_jobs))])\n",
    "# KNeighborsClassifier\n",
    "pipe_knn = Pipeline([('knn', KNeighborsClassifier(n_jobs=n_jobs))])\n",
    "# DecisionTreeClassifier\n",
    "pipe_dt = Pipeline([('dt', DecisionTreeClassifier(random_state=random_state, max_features='auto'))])\n",
    "# BaggingClassifier\n",
    "# note we use SGDClassifier as classier inside BaggingClassifier\n",
    "pipe_bag = Pipeline([('bag',BaggingClassifier(base_estimator=SGDClassifier(random_state=random_state, n_jobs=n_jobs, max_iter=1500),\\\n",
    "                                              random_state=random_state,oob_score=True,n_jobs=n_jobs))])\n",
    "# SGDClassifier\n",
    "pipe_sgd = Pipeline([('sgd', SGDClassifier(random_state=random_state, n_jobs=n_jobs, max_iter=1500))])"
   ]
  },
  {
   "cell_type": "code",
   "execution_count": 40,
   "metadata": {
    "pycharm": {
     "name": "#%%\n"
    }
   },
   "outputs": [],
   "source": [
    "'''Set parameters for Grid Search '''\n",
    "# set number \n",
    "cv = StratifiedKFold(shuffle=True, n_splits=5, random_state=random_state)\n",
    "# set for LogisticRegression\n",
    "grid_params_lr = [{\n",
    "                'lr__penalty': ['l2'],\n",
    "                'lr__C': [0.3, 0.6, 0.7],\n",
    "                'lr__solver': ['sag']\n",
    "                }]\n",
    "# set for RandomForestClassifier\n",
    "grid_params_rf = [{\n",
    "                'rf__criterion': ['entropy'],\n",
    "                'rf__min_samples_leaf': [80, 100],\n",
    "                'rf__max_depth': [25, 27],\n",
    "                'rf__min_samples_split': [3, 5],\n",
    "                'rf__n_estimators' : [60, 70]\n",
    "                }]\n",
    "# set for KNeighborsClassifier\n",
    "grid_params_knn = [{'knn__n_neighbors': [16,17,18]}]\n",
    "\n",
    "# set for DecisionTreeClassifier\n",
    "grid_params_dt = [{\n",
    "                'dt__max_depth': [8, 10],\n",
    "                'dt__min_samples_leaf': [1, 3, 5, 7]\n",
    "                  }]\n",
    "# set for BaggingClassifier\n",
    "grid_params_bag = [{'bag__n_estimators': [10, 15, 20]}]\n",
    "\n",
    "# set for SGDClassifier\n",
    "grid_params_sgd = [{\n",
    "                    'sgd__loss': ['log', 'huber'],\n",
    "                    'sgd__learning_rate': ['adaptive'],\n",
    "                    'sgd__eta0': [0.001, 0.01, 0.1],\n",
    "                    'sgd__penalty': ['l1', 'l2', 'elasticnet'], \n",
    "                    'sgd__alpha':[0.1, 1, 5, 10]\n",
    "                    }]"
   ]
  },
  {
   "cell_type": "code",
   "execution_count": 41,
   "metadata": {
    "pycharm": {
     "name": "#%%\n"
    }
   },
   "outputs": [],
   "source": [
    "# for LogisticRegression\n",
    "gs_lr = GridSearchCV(pipe_lr, param_grid=grid_params_lr,\n",
    "                     scoring='accuracy', cv=cv) \n",
    "# for RandomForestClassifier\n",
    "gs_rf = GridSearchCV(pipe_rf, param_grid=grid_params_rf,\n",
    "                     scoring='accuracy', cv=cv)\n",
    "# for KNeighborsClassifier\n",
    "gs_knn = GridSearchCV(pipe_knn, param_grid=grid_params_knn,\n",
    "                     scoring='accuracy', cv=cv)\n",
    "# for DecisionTreeClassifier\n",
    "gs_dt = GridSearchCV(pipe_dt, param_grid=grid_params_dt,\n",
    "                     scoring='accuracy', cv=cv)\n",
    "# for BaggingClassifier\n",
    "gs_bag = GridSearchCV(pipe_bag, param_grid=grid_params_bag,\n",
    "                     scoring='accuracy', cv=cv)\n",
    "# for SGDClassifier\n",
    "gs_sgd = GridSearchCV(pipe_sgd, param_grid=grid_params_sgd,\n",
    "                     scoring='accuracy', cv=cv)"
   ]
  },
  {
   "cell_type": "code",
   "execution_count": 42,
   "metadata": {
    "pycharm": {
     "name": "#%%\n"
    }
   },
   "outputs": [],
   "source": [
    "# models that we iterate over\n",
    "look_for = [gs_lr, gs_rf, gs_knn, gs_dt, gs_bag, gs_sgd]\n",
    "# dict for later use \n",
    "model_dict = {0:'Logistic_reg', 1:'RandomForest', 2:'Knn', 3:'DesionTree', 4:'Bagging with SGDClassifier', 5:'SGD Class'}"
   ]
  },
  {
   "cell_type": "code",
   "execution_count": 43,
   "metadata": {
    "pycharm": {
     "name": "#%%\n"
    }
   },
   "outputs": [
    {
     "name": "stdout",
     "output_type": "stream",
     "text": [
      "\n",
      "+++++++ Start New Model ++++++++++++++++++++++\n",
      "Estimator is Logistic_reg\n",
      "---------------------------------------------\n",
      "best params {'lr__C': 0.6, 'lr__penalty': 'l2', 'lr__solver': 'sag'}\n",
      "best score is 0.8604125\n",
      "---------------------------------------------\n",
      "ROC_AUC is 0.8466344190340716 and accuracy rate is 0.8622\n",
      "It lasted for 214.184 sec\n",
      "++++++++ End Model +++++++++++++++++++++++++++\n",
      "\n",
      "\n",
      "\n",
      "+++++++ Start New Model ++++++++++++++++++++++\n",
      "Estimator is RandomForest\n",
      "---------------------------------------------\n",
      "best params {'rf__criterion': 'entropy', 'rf__max_depth': 25, 'rf__min_samples_leaf': 80, 'rf__min_samples_split': 3, 'rf__n_estimators': 60}\n",
      "best score is 0.8604125\n",
      "---------------------------------------------\n",
      "ROC_AUC is 0.861211929462854 and accuracy rate is 0.86195\n",
      "It lasted for 120.448 sec\n",
      "++++++++ End Model +++++++++++++++++++++++++++\n",
      "\n",
      "\n",
      "\n",
      "+++++++ Start New Model ++++++++++++++++++++++\n",
      "Estimator is Knn\n",
      "---------------------------------------------\n",
      "best params {'knn__n_neighbors': 18}\n",
      "best score is 0.85825\n",
      "---------------------------------------------\n",
      "ROC_AUC is 0.7779851279744624 and accuracy rate is 0.85975\n",
      "It lasted for 12.816 sec\n",
      "++++++++ End Model +++++++++++++++++++++++++++\n",
      "\n",
      "\n",
      "\n",
      "+++++++ Start New Model ++++++++++++++++++++++\n",
      "Estimator is DesionTree\n",
      "---------------------------------------------\n",
      "best params {'dt__max_depth': 8, 'dt__min_samples_leaf': 3}\n",
      "best score is 0.8595875\n",
      "---------------------------------------------\n",
      "ROC_AUC is 0.8108084985992464 and accuracy rate is 0.86035\n",
      "It lasted for 2.397 sec\n",
      "++++++++ End Model +++++++++++++++++++++++++++\n",
      "\n",
      "\n",
      "\n",
      "+++++++ Start New Model ++++++++++++++++++++++\n",
      "Estimator is Bagging with SGDClassifier\n",
      "---------------------------------------------\n",
      "best params {'bag__n_estimators': 10}\n",
      "best score is 0.851125\n",
      "---------------------------------------------\n",
      "ROC_AUC is 0.774270125988723 and accuracy rate is 0.85355\n",
      "It lasted for 65.022 sec\n",
      "++++++++ End Model +++++++++++++++++++++++++++\n",
      "\n",
      "\n",
      "\n",
      "+++++++ Start New Model ++++++++++++++++++++++\n",
      "Estimator is SGD Class\n",
      "---------------------------------------------\n",
      "best params {'sgd__alpha': 0.1, 'sgd__eta0': 0.001, 'sgd__learning_rate': 'adaptive', 'sgd__loss': 'log', 'sgd__penalty': 'l1'}\n",
      "best score is 0.8604125\n",
      "---------------------------------------------\n",
      "ROC_AUC is 0.6602318715056925 and accuracy rate is 0.86195\n",
      "It lasted for 261.685 sec\n",
      "++++++++ End Model +++++++++++++++++++++++++++\n",
      "\n",
      "\n"
     ]
    }
   ],
   "source": [
    "''' Function to iterate over models and obtain results'''\n",
    "# set empty dicts and list\n",
    "result_acc = {}\n",
    "result_auc = {}\n",
    "models = []\n",
    "\n",
    "for index, model in enumerate(look_for):\n",
    "        start = time.time()\n",
    "        print()\n",
    "        print('+++++++ Start New Model ++++++++++++++++++++++')\n",
    "        print('Estimator is {}'.format(model_dict[index]))\n",
    "        model.fit(X_train, y_train)\n",
    "        print('---------------------------------------------')\n",
    "        print('best params {}'.format(model.best_params_))\n",
    "        print('best score is {}'.format(model.best_score_))\n",
    "        auc = roc_auc_score(y_test, model.predict_proba(X_test)[:,1])\n",
    "        print('---------------------------------------------')\n",
    "        print('ROC_AUC is {} and accuracy rate is {}'.format(auc, model.score(X_test, y_test)))\n",
    "        end = time.time()\n",
    "        print('It lasted for {} sec'.format(round(end - start, 3)))\n",
    "        print('++++++++ End Model +++++++++++++++++++++++++++')\n",
    "        print()\n",
    "        print()\n",
    "        models.append(model.best_estimator_)\n",
    "        result_acc[index] = model.best_score_\n",
    "        result_auc[index] = auc"
   ]
  },
  {
   "cell_type": "code",
   "execution_count": 59,
   "metadata": {
    "pycharm": {
     "name": "#%%\n"
    }
   },
   "outputs": [
    {
     "data": {
      "image/png": "[encoded data removed]",
      "text/plain": [
       "<Figure size 432x288 with 1 Axes>"
      ]
     },
     "metadata": {
      "needs_background": "light"
     },
     "output_type": "display_data"
    }
   ],
   "source": [
    "plt.plot(list(model_dict.values()), list(result_acc.values()), c='r')\n",
    "plt.plot(list(model_dict.values()), list(result_auc.values()), c='b')\n",
    "plt.xlabel('Models')\n",
    "plt.xticks(rotation=45)\n",
    "plt.ylabel('Accouracy and ROC_AUC')\n",
    "plt.title('Result of Grid Search')\n",
    "plt.legend(['Accuracy', 'ROC_AUC'])\n",
    "plt.show()"
   ]
  },
  {
   "cell_type": "code",
   "execution_count": 47,
   "metadata": {
    "pycharm": {
     "name": "#%%\n"
    }
   },
   "outputs": [
    {
     "data": {
      "text/html": [
       "<div>\n",
       "<style scoped>\n",
       "    .dataframe tbody tr th:only-of-type {\n",
       "        vertical-align: middle;\n",
       "    }\n",
       "\n",
       "    .dataframe tbody tr th {\n",
       "        vertical-align: top;\n",
       "    }\n",
       "\n",
       "    .dataframe thead th {\n",
       "        text-align: right;\n",
       "    }\n",
       "</style>\n",
       "<table border=\"1\" class=\"dataframe\">\n",
       "  <thead>\n",
       "    <tr style=\"text-align: right;\">\n",
       "      <th></th>\n",
       "      <th>Model</th>\n",
       "      <th>Accuracy_rate</th>\n",
       "      <th>Roc_auc_rate</th>\n",
       "    </tr>\n",
       "  </thead>\n",
       "  <tbody>\n",
       "    <tr>\n",
       "      <td>0</td>\n",
       "      <td>Logistic_reg</td>\n",
       "      <td>0.860413</td>\n",
       "      <td>0.846634</td>\n",
       "    </tr>\n",
       "    <tr>\n",
       "      <td>1</td>\n",
       "      <td>RandomForest</td>\n",
       "      <td>0.860413</td>\n",
       "      <td>0.861212</td>\n",
       "    </tr>\n",
       "    <tr>\n",
       "      <td>2</td>\n",
       "      <td>Knn</td>\n",
       "      <td>0.858250</td>\n",
       "      <td>0.777985</td>\n",
       "    </tr>\n",
       "    <tr>\n",
       "      <td>3</td>\n",
       "      <td>DesionTree</td>\n",
       "      <td>0.859587</td>\n",
       "      <td>0.810808</td>\n",
       "    </tr>\n",
       "    <tr>\n",
       "      <td>4</td>\n",
       "      <td>Bagging with SGDClassifier</td>\n",
       "      <td>0.851125</td>\n",
       "      <td>0.774270</td>\n",
       "    </tr>\n",
       "    <tr>\n",
       "      <td>5</td>\n",
       "      <td>SGD Class</td>\n",
       "      <td>0.860413</td>\n",
       "      <td>0.660232</td>\n",
       "    </tr>\n",
       "  </tbody>\n",
       "</table>\n",
       "</div>"
      ],
      "text/plain": [
       "                        Model  Accuracy_rate  Roc_auc_rate\n",
       "0                Logistic_reg       0.860413      0.846634\n",
       "1                RandomForest       0.860413      0.861212\n",
       "2                         Knn       0.858250      0.777985\n",
       "3                  DesionTree       0.859587      0.810808\n",
       "4  Bagging with SGDClassifier       0.851125      0.774270\n",
       "5                   SGD Class       0.860413      0.660232"
      ]
     },
     "execution_count": 47,
     "metadata": {},
     "output_type": "execute_result"
    }
   ],
   "source": [
    "\"\"\" Model performance during Grid Search \"\"\"\n",
    "pd.DataFrame(list(zip(model_dict.values(), result_acc.values(), result_auc.values())), \\\n",
    "                  columns=['Model', 'Accuracy_rate','Roc_auc_rate'])"
   ]
  },
  {
   "cell_type": "code",
   "execution_count": 52,
   "metadata": {
    "pycharm": {
     "name": "#%%\n"
    }
   },
   "outputs": [
    {
     "name": "stderr",
     "output_type": "stream",
     "text": [
      "100%|██████████| 39/39 [02:45<00:00,  4.24s/it]\n"
     ]
    },
    {
     "data": {
      "text/plain": [
       "'max oob 0.8604875 and number of estimators 30'"
      ]
     },
     "metadata": {},
     "output_type": "display_data"
    },
    {
     "data": {
      "image/png": "[encoded data removed]",
      "text/plain": [
       "<Figure size 432x288 with 1 Axes>"
      ]
     },
     "metadata": {
      "needs_background": "light"
     },
     "output_type": "display_data"
    }
   ],
   "source": [
    "def graph(model, X_train, y_train):\n",
    "    obb = []\n",
    "    est = list(range(5, 200, 5))\n",
    "    for i in tqdm(est):\n",
    "        random_forest = model(n_estimators=i, criterion='entropy', random_state=11, oob_score=True, n_jobs=-1, \\\n",
    "                           max_depth=25, min_samples_leaf=80, min_samples_split=3,)\n",
    "        random_forest.fit(X_train, y_train)\n",
    "        obb.append(random_forest.oob_score_)\n",
    "    display('max oob {} and number of estimators {}'.format(max(obb), est[np.argmax(obb)]))\n",
    "    plt.plot(est, obb)\n",
    "    plt.title('model')\n",
    "    plt.xlabel('number of estimators')\n",
    "    plt.ylabel('oob score')\n",
    "    plt.show();\n",
    "    \n",
    "graph(RandomForestClassifier, X_train, y_train)"
   ]
  },
  {
   "cell_type": "code",
   "execution_count": 58,
   "metadata": {
    "pycharm": {
     "name": "#%%\n"
    }
   },
   "outputs": [
    {
     "data": {
      "image/png": "[encoded data removed]",
      "text/plain": [
       "<Figure size 432x432 with 1 Axes>"
      ]
     },
     "metadata": {
      "needs_background": "light"
     },
     "output_type": "display_data"
    }
   ],
   "source": [
    "''' Build bar plot of feature importance of the best model '''\n",
    "\n",
    "def build_feature_importance(model, X_train, y_train):\n",
    "    \n",
    "    models = RandomForestClassifier(criterion='entropy', random_state=11, oob_score=True, n_jobs=-1, \\\n",
    "                           max_depth=25, min_samples_leaf=80, min_samples_split=3, n_estimators=70)\n",
    "    models.fit(X_train, y_train)\n",
    "    data = pd.DataFrame(models.feature_importances_, X_train.columns, columns=[\"feature\"])\n",
    "    data = data.sort_values(by='feature', ascending=False).reset_index()\n",
    "    plt.figure(figsize=[6,6])\n",
    "    sns.barplot(x='index', y='feature', data=data[:10], palette=\"Blues_d\")\n",
    "    plt.title('Feature inportance of Random Forest after Grid Search')\n",
    "    plt.xticks(rotation=45)\n",
    "    plt.show();\n",
    "    \n",
    "build_feature_importance(RandomForestClassifier, X_train, y_train)\n"
   ]
  },
  {
   "cell_type": "code",
   "execution_count": null,
   "metadata": {
    "pycharm": {
     "name": "#%%\n"
    }
   },
   "outputs": [],
   "source": []
  }
 ],
 "metadata": {
  "kernelspec": {
   "display_name": "Python 3",
   "language": "python",
   "name": "python3"
  },
  "language_info": {
   "codemirror_mode": {
    "name": "ipython",
    "version": 3
   },
   "file_extension": ".py",
   "mimetype": "text/x-python",
   "name": "python",
   "nbconvert_exporter": "python",
   "pygments_lexer": "ipython3",
   "version": "3.8.5"
  }
 },
 "nbformat": 4,
 "nbformat_minor": 2
}